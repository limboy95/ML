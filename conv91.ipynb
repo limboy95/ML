{
  "nbformat": 4,
  "nbformat_minor": 0,
  "metadata": {
    "colab": {
      "name": "lstm.ipynb",
      "version": "0.3.2",
      "provenance": []
    },
    "language_info": {
      "codemirror_mode": {
        "name": "ipython",
        "version": 3
      },
      "file_extension": ".py",
      "mimetype": "text/x-python",
      "name": "python",
      "nbconvert_exporter": "python",
      "pygments_lexer": "ipython3",
      "version": "3.6.8"
    },
    "kernelspec": {
      "display_name": "Python 3",
      "language": "python",
      "name": "python3"
    }
  },
  "cells": [
    {
      "cell_type": "code",
      "metadata": {
        "id": "PELTci0aAZWL",
        "colab_type": "code",
        "outputId": "23e4293d-e73f-4dd4-fd6b-4a019771201b",
        "colab": {
          "base_uri": "https://localhost:8080/",
          "height": 35
        }
      },
      "source": [
        "from google.colab import drive\n",
        "drive.mount(\"/content/drive\", force_remount=True)"
      ],
      "execution_count": 30,
      "outputs": [
        {
          "output_type": "stream",
          "text": [
            "Mounted at /content/drive\n"
          ],
          "name": "stdout"
        }
      ]
    },
    {
      "cell_type": "code",
      "metadata": {
        "id": "z0Z0VN5W5q03",
        "colab_type": "code",
        "colab": {
          "base_uri": "https://localhost:8080/",
          "height": 88
        },
        "outputId": "44bfdad3-48d0-439b-c6cd-38699f1be9c4"
      },
      "source": [
        "#lists the content of your google drive\n",
        "!ls \"/content/drive/My Drive\""
      ],
      "execution_count": 31,
      "outputs": [
        {
          "output_type": "stream",
          "text": [
            "'Colab Notebooks'\t\t\t\t      groupwork\n",
            "'Data Mining - Summaries 2018 19.gdoc'\t\t      HRI\n",
            "'DDD group assignment report - Line chart 1.gsheet'  'Sample upload.txt'\n",
            "'Getting started.pdf'\n"
          ],
          "name": "stdout"
        }
      ]
    },
    {
      "cell_type": "code",
      "metadata": {
        "id": "Ck_6wHSBg1vq",
        "colab_type": "code",
        "colab": {}
      },
      "source": [
        "link = 'https://drive.google.com/open?id=1DPZZQ43w8brRhbEMolgLqOWKbZbE-IQu' # The shareable link"
      ],
      "execution_count": 0,
      "outputs": []
    },
    {
      "cell_type": "code",
      "metadata": {
        "id": "5lUPiCO82RZ2",
        "colab_type": "code",
        "outputId": "26658904-33c5-490b-bfd7-355f3c816fea",
        "colab": {
          "base_uri": "https://localhost:8080/",
          "height": 106
        }
      },
      "source": [
        "import numpy\n",
        "import pandas as pd\n",
        "written_train =  numpy.load('drive/My Drive/Colab Notebooks/written_train(1).npy', allow_pickle=True)\n",
        "spoken_train = numpy.load('drive/My Drive/Colab Notebooks/spoken_train(1).npy', allow_pickle=True)\n",
        "match_train =  numpy.load('drive/My Drive/Colab Notebooks/match_train(1).npy', allow_pickle=True)\n",
        "feature_amount = spoken_train[0].shape[1]\n",
        "print(\"shape written:\", written_train.shape)\n",
        "print(\"shape spoken\", spoken_train.shape)\n",
        "print(\"shape spoken indiv:\", spoken_train[4].shape)\n",
        "print(feature_amount)\n",
        "print(match_train)"
      ],
      "execution_count": 33,
      "outputs": [
        {
          "output_type": "stream",
          "text": [
            "shape written: (45000, 784)\n",
            "shape spoken (45000,)\n",
            "shape spoken indiv: (38, 13)\n",
            "13\n",
            "[False False False ... False False False]\n"
          ],
          "name": "stdout"
        }
      ]
    },
    {
      "cell_type": "code",
      "metadata": {
        "id": "lS1PeK9Z2RZ8",
        "colab_type": "code",
        "outputId": "0d7a9374-5885-40c2-a4a1-aead4062b84f",
        "colab": {
          "base_uri": "https://localhost:8080/",
          "height": 159
        }
      },
      "source": [
        "import pandas as pd\n",
        "from numpy import array\n",
        "\n",
        "maxs = []\n",
        "for i in range(0, len(spoken_train)):\n",
        "    maxs.append(spoken_train[i].shape[0])\n",
        "maxlen_spoken_train = max(maxs)\n",
        "\n",
        "from keras.preprocessing.sequence import pad_sequences\n",
        "\n",
        "spoken_train_3d= pad_sequences(spoken_train, maxlen= max(maxs))\n",
        "print(spoken_train_3d.shape)\n",
        "\n",
        "spoken_train_2d =spoken_train_3d.reshape(45000, maxlen_spoken_train*feature_amount)\n",
        "\n",
        "spoken_train_2d\n"
      ],
      "execution_count": 34,
      "outputs": [
        {
          "output_type": "stream",
          "text": [
            "(45000, 93, 13)\n"
          ],
          "name": "stdout"
        },
        {
          "output_type": "execute_result",
          "data": {
            "text/plain": [
              "array([[ 0,  0,  0, ..., -1,  0,  0],\n",
              "       [ 0,  0,  0, ..., -2,  0,  0],\n",
              "       [ 0,  0,  0, ...,  0,  0,  0],\n",
              "       ...,\n",
              "       [ 0,  0,  0, ...,  0,  0,  0],\n",
              "       [ 0,  0,  0, ..., -1,  0,  0],\n",
              "       [ 0,  0,  0, ...,  0,  0,  0]], dtype=int32)"
            ]
          },
          "metadata": {
            "tags": []
          },
          "execution_count": 34
        }
      ]
    },
    {
      "cell_type": "code",
      "metadata": {
        "id": "9c-wZFXy2RaB",
        "colab_type": "code",
        "colab": {}
      },
      "source": [
        "from sklearn.preprocessing import MinMaxScaler, StandardScaler\n",
        "\n",
        "ss_scaler = StandardScaler()\n",
        "spoken_train_mmsc = ss_scaler.fit_transform(spoken_train_2d)\n",
        "written_train_mmsc = ss_scaler.fit_transform(written_train)"
      ],
      "execution_count": 0,
      "outputs": []
    },
    {
      "cell_type": "code",
      "metadata": {
        "id": "Hb51h7gX2RaE",
        "colab_type": "code",
        "outputId": "c249e052-55be-4fb5-a7ce-a059733cb5c7",
        "colab": {
          "base_uri": "https://localhost:8080/",
          "height": 52
        }
      },
      "source": [
        "X_train = numpy.hstack([spoken_train_mmsc, written_train_mmsc])\n",
        "print(X_train.shape)\n",
        "y_train=match_train\n",
        "print(y_train.shape)"
      ],
      "execution_count": 36,
      "outputs": [
        {
          "output_type": "stream",
          "text": [
            "(45000, 1993)\n",
            "(45000,)\n"
          ],
          "name": "stdout"
        }
      ]
    },
    {
      "cell_type": "code",
      "metadata": {
        "id": "TJsJddQk2RaI",
        "colab_type": "code",
        "outputId": "9eecdf7d-35cc-4980-f345-8c0ce3e0fa12",
        "colab": {
          "base_uri": "https://localhost:8080/",
          "height": 197
        }
      },
      "source": [
        "from imblearn.over_sampling import SMOTE\n",
        "\n",
        "print(\"Before OverSampling, counts of label '1': {}\".format(sum(y_train==0)))\n",
        "print(\"Before OverSampling, counts of label '2': {} \".format(sum(y_train==1)))\n",
        "\n",
        "sm = SMOTE(random_state=4)\n",
        "X_res, y_res = sm.fit_sample(X_train, y_train.ravel())\n",
        "\n",
        "print('After OverSampling, the shape of X: {}'.format(X_res.shape))\n",
        "print('After OverSampling, the shape of y: {} \\n'.format(y_res.shape))\n",
        "\n",
        "print(\"After OverSampling, counts of label '1': {}\".format(sum(y_res==0)))\n",
        "print(\"After OverSampling, counts of label '2': {}\".format(sum(y_res==1)))\n",
        "\n",
        "\n",
        "X= numpy.array(X_res)\n",
        "y= numpy.array(y_res)\n"
      ],
      "execution_count": 13,
      "outputs": [
        {
          "output_type": "stream",
          "text": [
            "/usr/local/lib/python3.6/dist-packages/sklearn/externals/six.py:31: DeprecationWarning: The module is deprecated in version 0.21 and will be removed in version 0.23 since we've dropped support for Python 2.7. Please rely on the official version of six (https://pypi.org/project/six/).\n",
            "  \"(https://pypi.org/project/six/).\", DeprecationWarning)\n"
          ],
          "name": "stderr"
        },
        {
          "output_type": "stream",
          "text": [
            "Before OverSampling, counts of label '1': 40461\n",
            "Before OverSampling, counts of label '2': 4539 \n",
            "After OverSampling, the shape of X: (80922, 1993)\n",
            "After OverSampling, the shape of y: (80922,) \n",
            "\n",
            "After OverSampling, counts of label '1': 40461\n",
            "After OverSampling, counts of label '2': 40461\n"
          ],
          "name": "stdout"
        }
      ]
    },
    {
      "cell_type": "code",
      "metadata": {
        "id": "oEG6JaZK2RaK",
        "colab_type": "code",
        "outputId": "95fe7ea3-490b-4918-cac4-ca3dfde454d3",
        "colab": {
          "base_uri": "https://localhost:8080/",
          "height": 35
        }
      },
      "source": [
        "X_train=X\n",
        "y_train=y\n",
        "print(y_train.shape)"
      ],
      "execution_count": 37,
      "outputs": [
        {
          "output_type": "stream",
          "text": [
            "(80922,)\n"
          ],
          "name": "stdout"
        }
      ]
    },
    {
      "cell_type": "code",
      "metadata": {
        "id": "YA8A54cv2RaO",
        "colab_type": "code",
        "outputId": "fa2a3292-93da-4983-bbfb-c0d17e5676aa",
        "colab": {
          "base_uri": "https://localhost:8080/",
          "height": 250
        }
      },
      "source": [
        "# import labelencoder\n",
        "from sklearn.preprocessing import LabelEncoder, OneHotEncoder\n",
        "# instantiate labelencoder object\n",
        "le = LabelEncoder()\n",
        "y_train = le.fit_transform(y)\n",
        "print(y_train)\n",
        "\n",
        "onehot_encoder = OneHotEncoder(sparse=False)\n",
        "integer_encoded = y_train.reshape(len(y_train), 1)\n",
        "y_train = onehot_encoder.fit_transform(integer_encoded)\n",
        "print(y_train)"
      ],
      "execution_count": 38,
      "outputs": [
        {
          "output_type": "stream",
          "text": [
            "[0 0 0 ... 1 1 1]\n",
            "[[1. 0.]\n",
            " [1. 0.]\n",
            " [1. 0.]\n",
            " ...\n",
            " [0. 1.]\n",
            " [0. 1.]\n",
            " [0. 1.]]\n"
          ],
          "name": "stdout"
        },
        {
          "output_type": "stream",
          "text": [
            "/usr/local/lib/python3.6/dist-packages/sklearn/preprocessing/_encoders.py:414: FutureWarning: The handling of integer data will change in version 0.22. Currently, the categories are determined based on the range [0, max(values)], while in the future they will be determined based on the unique values.\n",
            "If you want the future behaviour and silence this warning, you can specify \"categories='auto'\".\n",
            "In case you used a LabelEncoder before this OneHotEncoder to convert the categories to integers, then you can now use the OneHotEncoder directly.\n",
            "  warnings.warn(msg, FutureWarning)\n"
          ],
          "name": "stderr"
        }
      ]
    },
    {
      "cell_type": "markdown",
      "metadata": {
        "id": "aufvrj5i2RaR",
        "colab_type": "text"
      },
      "source": [
        "# LSTM"
      ]
    },
    {
      "cell_type": "code",
      "metadata": {
        "id": "wwxMsTnM2RaS",
        "colab_type": "code",
        "colab": {}
      },
      "source": [
        "import numpy\n",
        "import matplotlib.pyplot as plt\n",
        "import pandas\n",
        "import math\n",
        "import keras \n",
        "from keras.models import Sequential\n",
        "from keras.layers import Dense\n",
        "from keras.layers import LSTM\n",
        "from sklearn.preprocessing import MinMaxScaler\n",
        "from sklearn.metrics import mean_squared_error"
      ],
      "execution_count": 0,
      "outputs": []
    },
    {
      "cell_type": "code",
      "metadata": {
        "id": "gNFCATiy2RaV",
        "colab_type": "code",
        "outputId": "38a6a569-3c1c-490f-9322-1af415dfc862",
        "colab": {
          "base_uri": "https://localhost:8080/",
          "height": 35
        }
      },
      "source": [
        " print(X_train.shape)\n",
        "X_train = X_train.reshape(80922,1993,1)\n",
        "y_train = y_train.reshape(80922,2)"
      ],
      "execution_count": 18,
      "outputs": [
        {
          "output_type": "stream",
          "text": [
            "(80922, 1993)\n"
          ],
          "name": "stdout"
        }
      ]
    },
    {
      "cell_type": "code",
      "metadata": {
        "id": "fB24dFhz2RaY",
        "colab_type": "code",
        "outputId": "1c11a38d-0484-4403-d510-cce9352044e2",
        "colab": {
          "base_uri": "https://localhost:8080/",
          "height": 52
        }
      },
      "source": [
        "print(X_train.shape)\n",
        "print(y_train.shape)"
      ],
      "execution_count": 19,
      "outputs": [
        {
          "output_type": "stream",
          "text": [
            "(80922, 1993, 1)\n",
            "(80922, 2)\n"
          ],
          "name": "stdout"
        }
      ]
    },
    {
      "cell_type": "code",
      "metadata": {
        "id": "ynDIPS1rGuqG",
        "colab_type": "code",
        "colab": {}
      },
      "source": [
        "import numpy\n",
        "import matplotlib.pyplot as plt\n",
        "import pandas\n",
        "import math\n",
        "from keras.models import Sequential\n",
        "from keras.layers import Dense, Dropout\n",
        "from keras.layers import Conv1D, MaxPooling1D, GlobalAveragePooling1D\n",
        "#from sklearn.preprocessing import MinMaxScaler\n",
        "#from sklearn.metrics import mean_squared_error"
      ],
      "execution_count": 0,
      "outputs": []
    },
    {
      "cell_type": "code",
      "metadata": {
        "id": "v9eTgr-X2Rab",
        "colab_type": "code",
        "outputId": "3e83a290-3a01-474a-a8a2-b5b2eb651512",
        "colab": {
          "base_uri": "https://localhost:8080/",
          "height": 588
        }
      },
      "source": [
        "model_m = Sequential()\n",
        "model_m.add(Conv1D(32, 10, activation='relu', input_shape=(1993, 1)))\n",
        "model_m.add(MaxPooling1D(10))\n",
        "model_m.add(Conv1D(80, 10, activation='relu'))\n",
        "model_m.add(GlobalAveragePooling1D())\n",
        "model_m.add(Dropout(rate=0.5))\n",
        "model_m.add(Dense(1287, activation='relu'))\n",
        "model_m.add(Dropout(rate=0.5))\n",
        "model_m.add(Dense(644, activation='relu'))\n",
        "model_m.add(Dropout(rate=0.5))\n",
        "model_m.add(Dense(2, activation='softmax'))\n",
        "print(model_m.summary())"
      ],
      "execution_count": 25,
      "outputs": [
        {
          "output_type": "stream",
          "text": [
            "WARNING:tensorflow:From /usr/local/lib/python3.6/dist-packages/keras/backend/tensorflow_backend.py:3445: calling dropout (from tensorflow.python.ops.nn_ops) with keep_prob is deprecated and will be removed in a future version.\n",
            "Instructions for updating:\n",
            "Please use `rate` instead of `keep_prob`. Rate should be set to `rate = 1 - keep_prob`.\n",
            "_________________________________________________________________\n",
            "Layer (type)                 Output Shape              Param #   \n",
            "=================================================================\n",
            "conv1d_5 (Conv1D)            (None, 1984, 32)          352       \n",
            "_________________________________________________________________\n",
            "max_pooling1d_3 (MaxPooling1 (None, 198, 32)           0         \n",
            "_________________________________________________________________\n",
            "conv1d_6 (Conv1D)            (None, 189, 80)           25680     \n",
            "_________________________________________________________________\n",
            "global_average_pooling1d_3 ( (None, 80)                0         \n",
            "_________________________________________________________________\n",
            "dropout_1 (Dropout)          (None, 80)                0         \n",
            "_________________________________________________________________\n",
            "dense_1 (Dense)              (None, 1287)              104247    \n",
            "_________________________________________________________________\n",
            "dropout_2 (Dropout)          (None, 1287)              0         \n",
            "_________________________________________________________________\n",
            "dense_2 (Dense)              (None, 644)               829472    \n",
            "_________________________________________________________________\n",
            "dropout_3 (Dropout)          (None, 644)               0         \n",
            "_________________________________________________________________\n",
            "dense_3 (Dense)              (None, 2)                 1290      \n",
            "=================================================================\n",
            "Total params: 961,041\n",
            "Trainable params: 961,041\n",
            "Non-trainable params: 0\n",
            "_________________________________________________________________\n",
            "None\n"
          ],
          "name": "stdout"
        }
      ]
    },
    {
      "cell_type": "code",
      "metadata": {
        "id": "l8DDBzI5HHaY",
        "colab_type": "code",
        "colab": {
          "base_uri": "https://localhost:8080/",
          "height": 161
        },
        "outputId": "adb02429-8b0e-4582-e9b4-a990bc42af14"
      },
      "source": [
        "callbacks_list = [\n",
        "    keras.callbacks.ModelCheckpoint(\n",
        "        filepath='best_model.{epoch:02d}-{val_loss:.2f}.h5',\n",
        "        monitor='val_loss', save_best_only=True),\n",
        "    keras.callbacks.EarlyStopping(monitor='acc', patience=1)\n",
        "]\n",
        "\n",
        "model_m.compile(loss='binary_crossentropy',\n",
        "                optimizer='adam', metrics=['accuracy'])\n",
        "\n",
        "BATCH_SIZE = 129\n",
        "EPOCHS = 50\n",
        "\n",
        "history = model_m.fit(X_train,\n",
        "                      y_train,\n",
        "                      batch_size=BATCH_SIZE,\n",
        "                      epochs=1,\n",
        "                      callbacks=callbacks_list,\n",
        "                      validation_split=0.2,\n",
        "                      verbose=1)\n",
        "print(history.history.keys())"
      ],
      "execution_count": 26,
      "outputs": [
        {
          "output_type": "stream",
          "text": [
            "WARNING:tensorflow:From /usr/local/lib/python3.6/dist-packages/tensorflow/python/ops/math_ops.py:3066: to_int32 (from tensorflow.python.ops.math_ops) is deprecated and will be removed in a future version.\n",
            "Instructions for updating:\n",
            "Use tf.cast instead.\n",
            "Train on 64737 samples, validate on 16185 samples\n",
            "Epoch 1/1\n",
            "64737/64737 [==============================] - 138s 2ms/step - loss: 0.6203 - acc: 0.6685 - val_loss: 0.1838 - val_acc: 0.9141\n",
            "dict_keys(['val_loss', 'val_acc', 'loss', 'acc'])\n"
          ],
          "name": "stdout"
        }
      ]
    },
    {
      "cell_type": "code",
      "metadata": {
        "id": "WuprIDoyHH8D",
        "colab_type": "code",
        "colab": {}
      },
      "source": [
        ""
      ],
      "execution_count": 0,
      "outputs": []
    },
    {
      "cell_type": "code",
      "metadata": {
        "id": "dS9SN55eHH_L",
        "colab_type": "code",
        "colab": {}
      },
      "source": [
        ""
      ],
      "execution_count": 0,
      "outputs": []
    },
    {
      "cell_type": "code",
      "metadata": {
        "id": "pab3_FzQ2Rae",
        "colab_type": "code",
        "colab": {}
      },
      "source": [
        "from keras.models import Sequential\n",
        "from keras.layers import LSTM\n",
        "from keras.layers import Dense, Dropout\n",
        "from keras.layers import Embedding\n",
        "from keras import layers\n",
        "\n",
        "model = Sequential()\n",
        "model.add(LSTM(1000,input_shape=(1993, 1),return_sequences=False))#True = many to many\n",
        "model.add(Dense(2574, activation='relu'))\n",
        "model.add(Dropout(rate =0.5))\n",
        "model.add(Dense(1287, activation='relu'))\n",
        "model.add(Dropout(rate =0.5))\n",
        "model.add(Dense(644, activation='relu'))\n",
        "model.add(Dropout(rate =0.5))\n",
        "model.add(Dense(644, activation='relu'))\n",
        "model.add(Dropout(rate =0.5))\n",
        "model.add(Dense(2,activation= 'softmax'))"
      ],
      "execution_count": 0,
      "outputs": []
    },
    {
      "cell_type": "code",
      "metadata": {
        "id": "i31yOklv9ngX",
        "colab_type": "code",
        "colab": {
          "base_uri": "https://localhost:8080/",
          "height": 52
        },
        "outputId": "7b159649-039b-4a6c-dfaa-d21feb408bc0"
      },
      "source": [
        "model.compile(\n",
        " optimizer = \"adam\", loss='categorical_crossentropy',\n",
        " metrics = [\"accuracy\"])\n",
        "\n",
        "model.fit(X_train, y_train, epochs= 10, batch_size = 8000, validation_split=0.2) #batch_size = 8000\n",
        " "
      ],
      "execution_count": 0,
      "outputs": [
        {
          "output_type": "stream",
          "text": [
            "Train on 64737 samples, validate on 16185 samples\n",
            "Epoch 1/10\n"
          ],
          "name": "stdout"
        }
      ]
    },
    {
      "cell_type": "markdown",
      "metadata": {
        "id": "E70mBZ6A2Rag",
        "colab_type": "text"
      },
      "source": [
        "# TESTEN"
      ]
    },
    {
      "cell_type": "code",
      "metadata": {
        "id": "1vIEMQiA2Rah",
        "colab_type": "code",
        "colab": {}
      },
      "source": [
        "written_test =numpy.load('drive/My Drive/Colab Notebooks/written_test(1).npy', allow_pickle=True)\n",
        "spoken_test =numpy.load('drive/My Drive/Colab Notebooks/spoken_test(1).npy', allow_pickle=True)"
      ],
      "execution_count": 0,
      "outputs": []
    },
    {
      "cell_type": "code",
      "metadata": {
        "id": "C4iOTn3o2Raj",
        "colab_type": "code",
        "outputId": "565d3853-280d-4823-c994-112e154fd0db",
        "colab": {
          "base_uri": "https://localhost:8080/",
          "height": 159
        }
      },
      "source": [
        "import pandas as pd\n",
        "from numpy import array\n",
        "\n",
        "maxs = []\n",
        "for i in range(0, len(spoken_test)):\n",
        "    maxs.append(spoken_test[i].shape[0])\n",
        "maxlen_spoken_test = max(maxs)\n",
        "\n",
        "from keras.preprocessing.sequence import pad_sequences\n",
        "\n",
        "spoken_test_3d= pad_sequences(spoken_test, maxlen= max(maxs))\n",
        "print(spoken_test_3d.shape)\n",
        "\n",
        "spoken_test_2d =spoken_test_3d.reshape(15000, maxlen_spoken_test*feature_amount)\n",
        "\n",
        "spoken_test_2d\n"
      ],
      "execution_count": 40,
      "outputs": [
        {
          "output_type": "stream",
          "text": [
            "(15000, 93, 13)\n"
          ],
          "name": "stdout"
        },
        {
          "output_type": "execute_result",
          "data": {
            "text/plain": [
              "array([[ 0,  0,  0, ..., -1,  0,  1],\n",
              "       [ 0,  0,  0, ...,  0,  0,  0],\n",
              "       [ 0,  0,  0, ..., -2,  0,  1],\n",
              "       ...,\n",
              "       [ 0,  0,  0, ..., -2, -1,  0],\n",
              "       [ 0,  0,  0, ..., -2, -1,  0],\n",
              "       [ 0,  0,  0, ...,  0,  0,  0]], dtype=int32)"
            ]
          },
          "metadata": {
            "tags": []
          },
          "execution_count": 40
        }
      ]
    },
    {
      "cell_type": "code",
      "metadata": {
        "id": "6Rn96LoO2Rao",
        "colab_type": "code",
        "colab": {}
      },
      "source": [
        "mm_scaler = StandardScaler()\n",
        "spoken_test_mmsc = mm_scaler.fit_transform(spoken_test_2d)\n",
        "written_test_mmsc = mm_scaler.fit_transform(written_test)\n"
      ],
      "execution_count": 0,
      "outputs": []
    },
    {
      "cell_type": "code",
      "metadata": {
        "id": "bG378nje2Rar",
        "colab_type": "code",
        "colab": {}
      },
      "source": [
        "X_test = numpy.hstack([spoken_test_mmsc, written_test_mmsc])\n",
        "X_test = X_test.reshape(15000,1993,1)"
      ],
      "execution_count": 0,
      "outputs": []
    },
    {
      "cell_type": "code",
      "metadata": {
        "id": "fDmKvF5v2Rau",
        "colab_type": "code",
        "outputId": "2616265d-2764-49c5-d0da-476d90195dd7",
        "colab": {
          "base_uri": "https://localhost:8080/",
          "height": 70
        }
      },
      "source": [
        "from sklearn.metrics import accuracy_score\n",
        "\n",
        "y_pred = model_m.predict_classes(X_test, verbose=1)\n",
        "\n",
        "print(y_pred)\n",
        "\n",
        "print(1 in y_pred)"
      ],
      "execution_count": 43,
      "outputs": [
        {
          "output_type": "stream",
          "text": [
            "15000/15000 [==============================] - 12s 794us/step\n",
            "[1 1 0 ... 1 1 1]\n",
            "True\n"
          ],
          "name": "stdout"
        }
      ]
    },
    {
      "cell_type": "code",
      "metadata": {
        "id": "w93yMUAd2Ra5",
        "colab_type": "code",
        "colab": {}
      },
      "source": [
        "numpy.save(\"attempt91.npy\", y_pred)"
      ],
      "execution_count": 0,
      "outputs": []
    }
  ]
}