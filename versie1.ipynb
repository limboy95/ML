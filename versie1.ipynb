{
 "cells": [
  {
   "cell_type": "code",
   "execution_count": 67,
   "metadata": {},
   "outputs": [
    {
     "name": "stdout",
     "output_type": "stream",
     "text": [
      "shape written: (45000, 784)\n",
      "shape spoken (45000,)\n",
      "shape spoken indiv: (38, 13)\n",
      "13\n",
      "(45000,)\n"
     ]
    }
   ],
   "source": [
    "import numpy\n",
    "written_train =numpy.load(\"written_train(1).npy\")\n",
    "spoken_train =numpy.load(\"spoken_train(1).npy\")\n",
    "match_train = numpy.load(\"match_train(1).npy\")\n",
    "feature_amount = spoken_train[0].shape[1]\n",
    "print(\"shape written:\", written_train.shape)\n",
    "print(\"shape spoken\", spoken_train.shape)\n",
    "print(\"shape spoken indiv:\", spoken_train[4].shape)\n",
    "print(feature_amount)\n",
    "print(match_train.shape)\n"
   ]
  },
  {
   "cell_type": "code",
   "execution_count": 68,
   "metadata": {},
   "outputs": [
    {
     "name": "stdout",
     "output_type": "stream",
     "text": [
      "(45000, 93, 13)\n"
     ]
    },
    {
     "data": {
      "text/plain": [
       "array([[ 0,  0,  0, ..., -1,  0,  0],\n",
       "       [ 0,  0,  0, ..., -2,  0,  0],\n",
       "       [ 0,  0,  0, ...,  0,  0,  0],\n",
       "       ...,\n",
       "       [ 0,  0,  0, ...,  0,  0,  0],\n",
       "       [ 0,  0,  0, ..., -1,  0,  0],\n",
       "       [ 0,  0,  0, ...,  0,  0,  0]], dtype=int32)"
      ]
     },
     "execution_count": 68,
     "metadata": {},
     "output_type": "execute_result"
    }
   ],
   "source": [
    "import pandas as pd\n",
    "from numpy import array\n",
    "\n",
    "maxs = []\n",
    "for i in range(0, len(spoken_train)):\n",
    "    maxs.append(spoken_train[i].shape[0])\n",
    "maxlen_spoken_train = max(maxs)\n",
    "\n",
    "from keras.preprocessing.sequence import pad_sequences\n",
    "\n",
    "spoken_train_3d= pad_sequences(spoken_train, maxlen= max(maxs))\n",
    "print(spoken_train_3d.shape)\n",
    "\n",
    "spoken_train_2d =spoken_train_3d.reshape(45000, maxlen_spoken_train*feature_amount)\n",
    "\n",
    "spoken_train_2d \n",
    "\n",
    "\n"
   ]
  },
  {
   "cell_type": "code",
   "execution_count": 69,
   "metadata": {},
   "outputs": [
    {
     "name": "stdout",
     "output_type": "stream",
     "text": [
      "[255 254 254 255 254 253 255 254 255 255 255 255 255 254 251 254 255 255\n",
      " 255 255 253 255 255 255 255 255 255 255 255 255 254 255 255 255 253 255\n",
      " 255 253 254 255 255 255 255 255 255 255 252 255 253 254 250 254 255 250\n",
      " 255 255 255 253 255 255 255 255 252 255 251 255 255 255 255 253 255 255\n",
      " 251 254 255 254 255 255 250 255 254 255 255 255 253 254 255 254 254 254\n",
      " 255 253 255 255 255 249 255 255 255 255 254 255 254 254 255 255 254 253\n",
      " 254 253 255 255 255 252 255 255 255 255 255 255 255 255 254 255 254 243\n",
      " 128  63 137 251 255 255 254 255 255 255 255 255 255 255 252 254 255 252\n",
      " 255 251 253 252 255 255 255 255 241  82   3   2   0  66 219 255 255 251\n",
      " 253 253 255 255 255 253 255 254 255 253 255 255 255 255 255 254 255 253\n",
      " 120   2   0   4  46   2  31 219 255 255 255 255 253 255 254 254 255 255\n",
      " 253 254 255 255 253 254 255 255 255 186   3   3  71 148 251 158   4 167\n",
      " 255 253 253 255 255 255 255 254 254 255 252 251 252 255 255 255 255 255\n",
      " 254 132   4   6 222 255 249 255  13  94 254 255 253 254 249 255 255 255\n",
      " 255 255 254 254 251 251 255 253 254 254 255  46   3  63 248 255 255 255\n",
      "  49  15 213 254 255 255 255 255 255 255 251 254 253 254 252 255 255 255\n",
      " 255 253 167   0   3 131 255 254 255 254 122   2 194 253 255 254 252 254\n",
      " 255 255 255 255 253 254 253 255 254 255 255 255  53   0  44 255 254 255\n",
      " 253 255 123   1  91 255 254 255 255 254 253 255 253 255 255 255 251 255\n",
      " 251 255 255 213  20   4  79 255 255 254 253 255 155   1  93 254 253 255\n",
      " 254 253 255 255 254 253 255 254 255 252 255 253 255 152   4   3 202 252\n",
      " 255 255 252 255 184   2  92 253 254 254 252 254 254 252 255 255 255 255\n",
      " 255 255 255 255 255  86   4  29 255 253 251 255 253 254  57   1 105 255\n",
      " 255 254 252 255 255 255 255 255 253 255 253 255 255 255 242  28   0 124\n",
      " 255 255 255 252 255 255  13   0 196 254 254 255 254 253 253 255 254 255\n",
      " 254 253 254 255 252 253 237   0   2 123 255 253 255 253 252 216  10  21\n",
      " 222 252 253 255 255 255 254 255 255 254 255 255 253 253 255 255 231   4\n",
      "   3 123 255 255 255 255 255 148   1 116 255 255 254 254 255 254 255 255\n",
      " 254 255 254 254 255 255 255 253 234   2   2 125 251 255 255 255 212  16\n",
      "   7 187 253 254 251 253 252 255 255 251 255 255 252 254 255 255 255 254\n",
      " 233   1   2 127 255 255 255 192  42   2 101 254 255 254 254 254 253 251\n",
      " 255 255 253 255 255 254 255 255 255 255 231   2   0 125 252 252 246  58\n",
      "   1   8 243 254 254 255 254 254 252 255 253 255 255 255 255 255 254 253\n",
      " 253 255 237  20   0  49  97  99  17   0  45 198 255 255 254 253 254 254\n",
      " 255 255 255 253 255 255 250 255 254 255 254 254 253 127   3   1   2   0\n",
      "   0  48 172 255 252 255 250 255 253 254 254 254 254 255 253 254 255 254\n",
      " 255 255 254 252 254 246 138  12   0   1 148 241 254 254 255 255 255 255\n",
      " 255 255 255 255 255 254 255 255 255 255 255 254 255 251 255 253 255 255\n",
      " 255 254 255 255 253 250 253 255 255 255 255 253 255 253 252 255 255 255\n",
      " 253 253 253 252 254 252 255 254 255 255 254 255 255 254 255 250 255 255\n",
      " 255 255 255 251 255 251 255 252 252 255 255 255 255 254 254 254 255 255\n",
      " 255 255 252 255 255 255 255 255 252 255 254 254 254 255 253 252 254 255\n",
      " 255 255 252 253 254 255 255 251 255 254 255 255 254 253 253 254 254 255\n",
      " 255 254 255 255 253 255 254 255 255 255]\n",
      "(45000, 784)\n"
     ]
    }
   ],
   "source": [
    "print(written_train[0])\n",
    "print(written_train.shape)\n"
   ]
  },
  {
   "cell_type": "markdown",
   "metadata": {},
   "source": []
  },
  {
   "cell_type": "code",
   "execution_count": 70,
   "metadata": {},
   "outputs": [
    {
     "name": "stderr",
     "output_type": "stream",
     "text": [
      "/Users/Janne/tutorial-env/lib/python3.6/site-packages/sklearn/utils/validation.py:595: DataConversionWarning: Data with input dtype int32 was converted to float64 by MinMaxScaler.\n",
      "  raise ValueError(\"Only sparse matrices with 32-bit integer\"\n",
      "/Users/Janne/tutorial-env/lib/python3.6/site-packages/sklearn/utils/validation.py:595: DataConversionWarning: Data with input dtype int64 was converted to float64 by MinMaxScaler.\n",
      "  raise ValueError(\"Only sparse matrices with 32-bit integer\"\n"
     ]
    }
   ],
   "source": [
    "from sklearn.preprocessing import MinMaxScaler\n",
    "\n",
    "mm_scaler = MinMaxScaler()\n",
    "spoken_train_mmsc = mm_scaler.fit_transform(spoken_train_2d)\n",
    "written_train_mmsc = mm_scaler.fit_transform(written_train)\n"
   ]
  },
  {
   "cell_type": "code",
   "execution_count": 71,
   "metadata": {},
   "outputs": [
    {
     "name": "stdout",
     "output_type": "stream",
     "text": [
      "(45000, 1993)\n"
     ]
    }
   ],
   "source": [
    "X_values = numpy.hstack([spoken_train_mmsc, written_train_mmsc])\n",
    "print(X_values.shape)"
   ]
  },
  {
   "cell_type": "code",
   "execution_count": 74,
   "metadata": {},
   "outputs": [
    {
     "ename": "ImportError",
     "evalue": "cannot import name 'MultiOutputMixin'",
     "output_type": "error",
     "traceback": [
      "\u001b[0;31m---------------------------------------------------------------------------\u001b[0m",
      "\u001b[0;31mImportError\u001b[0m                               Traceback (most recent call last)",
      "\u001b[0;32m<ipython-input-74-795aa7284f43>\u001b[0m in \u001b[0;36m<module>\u001b[0;34m\u001b[0m\n\u001b[0;32m----> 1\u001b[0;31m \u001b[0;32mfrom\u001b[0m \u001b[0msklearn\u001b[0m\u001b[0;34m.\u001b[0m\u001b[0mlinear_model\u001b[0m \u001b[0;32mimport\u001b[0m \u001b[0mPerceptron\u001b[0m\u001b[0;34m\u001b[0m\u001b[0;34m\u001b[0m\u001b[0m\n\u001b[0m\u001b[1;32m      2\u001b[0m \u001b[0mXPerceptron\u001b[0m \u001b[0;34m=\u001b[0m \u001b[0mlinear_model\u001b[0m\u001b[0;34m.\u001b[0m\u001b[0mPerceptron\u001b[0m\u001b[0;34m(\u001b[0m\u001b[0mtol\u001b[0m\u001b[0;34m=\u001b[0m\u001b[0;36m1e-3\u001b[0m\u001b[0;34m,\u001b[0m \u001b[0mrandom_state\u001b[0m\u001b[0;34m=\u001b[0m\u001b[0;36m0\u001b[0m\u001b[0;34m)\u001b[0m\u001b[0;34m\u001b[0m\u001b[0;34m\u001b[0m\u001b[0m\n\u001b[1;32m      3\u001b[0m \u001b[0mXPerceptron\u001b[0m\u001b[0;34m.\u001b[0m\u001b[0mfit\u001b[0m\u001b[0;34m(\u001b[0m\u001b[0mX_values\u001b[0m\u001b[0;34m,\u001b[0m \u001b[0mmatch_train\u001b[0m\u001b[0;34m)\u001b[0m\u001b[0;34m\u001b[0m\u001b[0;34m\u001b[0m\u001b[0m\n",
      "\u001b[0;32m~/tutorial-env/lib/python3.6/site-packages/sklearn/linear_model/__init__.py\u001b[0m in \u001b[0;36m<module>\u001b[0;34m\u001b[0m\n\u001b[1;32m     10\u001b[0m \u001b[0;31m# complete documentation.\u001b[0m\u001b[0;34m\u001b[0m\u001b[0;34m\u001b[0m\u001b[0;34m\u001b[0m\u001b[0m\n\u001b[1;32m     11\u001b[0m \u001b[0;34m\u001b[0m\u001b[0m\n\u001b[0;32m---> 12\u001b[0;31m \u001b[0;32mfrom\u001b[0m \u001b[0;34m.\u001b[0m\u001b[0mbase\u001b[0m \u001b[0;32mimport\u001b[0m \u001b[0mLinearRegression\u001b[0m\u001b[0;34m\u001b[0m\u001b[0;34m\u001b[0m\u001b[0m\n\u001b[0m\u001b[1;32m     13\u001b[0m \u001b[0;34m\u001b[0m\u001b[0m\n\u001b[1;32m     14\u001b[0m \u001b[0;32mfrom\u001b[0m \u001b[0;34m.\u001b[0m\u001b[0mbayes\u001b[0m \u001b[0;32mimport\u001b[0m \u001b[0mBayesianRidge\u001b[0m\u001b[0;34m,\u001b[0m \u001b[0mARDRegression\u001b[0m\u001b[0;34m\u001b[0m\u001b[0;34m\u001b[0m\u001b[0m\n",
      "\u001b[0;32m~/tutorial-env/lib/python3.6/site-packages/sklearn/linear_model/base.py\u001b[0m in \u001b[0;36m<module>\u001b[0;34m\u001b[0m\n\u001b[1;32m     25\u001b[0m \u001b[0;34m\u001b[0m\u001b[0m\n\u001b[1;32m     26\u001b[0m \u001b[0;32mfrom\u001b[0m \u001b[0;34m.\u001b[0m\u001b[0;34m.\u001b[0m\u001b[0mutils\u001b[0m\u001b[0;34m.\u001b[0m\u001b[0m_joblib\u001b[0m \u001b[0;32mimport\u001b[0m \u001b[0mParallel\u001b[0m\u001b[0;34m,\u001b[0m \u001b[0mdelayed\u001b[0m\u001b[0;34m\u001b[0m\u001b[0;34m\u001b[0m\u001b[0m\n\u001b[0;32m---> 27\u001b[0;31m from ..base import (BaseEstimator, ClassifierMixin, RegressorMixin,\n\u001b[0m\u001b[1;32m     28\u001b[0m                     MultiOutputMixin)\n\u001b[1;32m     29\u001b[0m \u001b[0;32mfrom\u001b[0m \u001b[0;34m.\u001b[0m\u001b[0;34m.\u001b[0m\u001b[0mutils\u001b[0m \u001b[0;32mimport\u001b[0m \u001b[0mcheck_array\u001b[0m\u001b[0;34m,\u001b[0m \u001b[0mcheck_X_y\u001b[0m\u001b[0;34m\u001b[0m\u001b[0;34m\u001b[0m\u001b[0m\n",
      "\u001b[0;31mImportError\u001b[0m: cannot import name 'MultiOutputMixin'"
     ]
    }
   ],
   "source": [
    "from sklearn.linear_model import Perceptron\n",
    "XPerceptron = linear_model.Perceptron(tol=1e-3, random_state=0)\n",
    "XPerceptron.fit(X_values, match_train)"
   ]
  },
  {
   "cell_type": "code",
   "execution_count": null,
   "metadata": {},
   "outputs": [],
   "source": []
  }
 ],
 "metadata": {
  "kernelspec": {
   "display_name": "Python 3",
   "language": "python",
   "name": "python3"
  },
  "language_info": {
   "codemirror_mode": {
    "name": "ipython",
    "version": 3
   },
   "file_extension": ".py",
   "mimetype": "text/x-python",
   "name": "python",
   "nbconvert_exporter": "python",
   "pygments_lexer": "ipython3",
   "version": "3.6.8"
  }
 },
 "nbformat": 4,
 "nbformat_minor": 2
}
