{
 "cells": [
  {
   "cell_type": "code",
   "execution_count": 23,
   "metadata": {},
   "outputs": [
    {
     "name": "stdout",
     "output_type": "stream",
     "text": [
      "shape written: (45000, 784)\n",
      "shape spoken (45000,)\n",
      "shape spoken indiv: (38, 13)\n",
      "13\n",
      "[False False False ... False False False]\n"
     ]
    }
   ],
   "source": [
    "import numpy\n",
    "written_train =numpy.load(\"written_train(1).npy\")\n",
    "spoken_train =numpy.load(\"spoken_train(1).npy\")\n",
    "match_train = numpy.load(\"match_train(1).npy\")\n",
    "feature_amount = spoken_train[0].shape[1]\n",
    "print(\"shape written:\", written_train.shape)\n",
    "print(\"shape spoken\", spoken_train.shape)\n",
    "print(\"shape spoken indiv:\", spoken_train[4].shape)\n",
    "print(feature_amount)\n",
    "print(match_train)"
   ]
  },
  {
   "cell_type": "code",
   "execution_count": 24,
   "metadata": {},
   "outputs": [
    {
     "name": "stdout",
     "output_type": "stream",
     "text": [
      "(45000, 93, 13)\n"
     ]
    },
    {
     "data": {
      "text/plain": [
       "array([[ 0,  0,  0, ..., -1,  0,  0],\n",
       "       [ 0,  0,  0, ..., -2,  0,  0],\n",
       "       [ 0,  0,  0, ...,  0,  0,  0],\n",
       "       ...,\n",
       "       [ 0,  0,  0, ...,  0,  0,  0],\n",
       "       [ 0,  0,  0, ..., -1,  0,  0],\n",
       "       [ 0,  0,  0, ...,  0,  0,  0]], dtype=int32)"
      ]
     },
     "execution_count": 24,
     "metadata": {},
     "output_type": "execute_result"
    }
   ],
   "source": [
    "import pandas as pd\n",
    "from numpy import array\n",
    "\n",
    "maxs = []\n",
    "for i in range(0, len(spoken_train)):\n",
    "    maxs.append(spoken_train[i].shape[0])\n",
    "maxlen_spoken_train = max(maxs)\n",
    "\n",
    "from keras.preprocessing.sequence import pad_sequences\n",
    "\n",
    "spoken_train_3d= pad_sequences(spoken_train, maxlen= max(maxs))\n",
    "print(spoken_train_3d.shape)\n",
    "\n",
    "spoken_train_2d =spoken_train_3d.reshape(45000, maxlen_spoken_train*feature_amount)\n",
    "\n",
    "spoken_train_2d \n",
    "\n",
    "\n"
   ]
  },
  {
   "cell_type": "markdown",
   "metadata": {},
   "source": []
  },
  {
   "cell_type": "code",
   "execution_count": null,
   "metadata": {},
   "outputs": [],
   "source": []
  }
 ],
 "metadata": {
  "kernelspec": {
   "display_name": "Python 3",
   "language": "python",
   "name": "python3"
  },
  "language_info": {
   "codemirror_mode": {
    "name": "ipython",
    "version": 3
   },
   "file_extension": ".py",
   "mimetype": "text/x-python",
   "name": "python",
   "nbconvert_exporter": "python",
   "pygments_lexer": "ipython3",
   "version": "3.6.8"
  }
 },
 "nbformat": 4,
 "nbformat_minor": 2
}
