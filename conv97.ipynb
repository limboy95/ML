{
  "nbformat": 4,
  "nbformat_minor": 0,
  "metadata": {
    "colab": {
      "name": "lstm.ipynb",
      "version": "0.3.2",
      "provenance": [],
      "collapsed_sections": []
    },
    "language_info": {
      "codemirror_mode": {
        "name": "ipython",
        "version": 3
      },
      "file_extension": ".py",
      "mimetype": "text/x-python",
      "name": "python",
      "nbconvert_exporter": "python",
      "pygments_lexer": "ipython3",
      "version": "3.6.8"
    },
    "kernelspec": {
      "display_name": "Python 3",
      "language": "python",
      "name": "python3"
    }
  },
  "cells": [
    {
      "cell_type": "code",
      "metadata": {
        "id": "PELTci0aAZWL",
        "colab_type": "code",
        "outputId": "7c9bc547-841d-42d4-e969-9b2999709bc5",
        "colab": {
          "base_uri": "https://localhost:8080/",
          "height": 35
        }
      },
      "source": [
        "from google.colab import drive\n",
        "drive.mount(\"/content/drive\", force_remount=True)"
      ],
      "execution_count": 52,
      "outputs": [
        {
          "output_type": "stream",
          "text": [
            "Mounted at /content/drive\n"
          ],
          "name": "stdout"
        }
      ]
    },
    {
      "cell_type": "code",
      "metadata": {
        "id": "z0Z0VN5W5q03",
        "colab_type": "code",
        "colab": {
          "base_uri": "https://localhost:8080/",
          "height": 88
        },
        "outputId": "d50220eb-33fa-47bc-c786-86f3b8165e30"
      },
      "source": [
        "#lists the content of your google drive\n",
        "!ls \"/content/drive/My Drive\""
      ],
      "execution_count": 53,
      "outputs": [
        {
          "output_type": "stream",
          "text": [
            "'Colab Notebooks'\t\t\t\t      groupwork\n",
            "'Data Mining - Summaries 2018 19.gdoc'\t\t      HRI\n",
            "'DDD group assignment report - Line chart 1.gsheet'  'Sample upload.txt'\n",
            "'Getting started.pdf'\n"
          ],
          "name": "stdout"
        }
      ]
    },
    {
      "cell_type": "code",
      "metadata": {
        "id": "Ck_6wHSBg1vq",
        "colab_type": "code",
        "colab": {}
      },
      "source": [
        "link = 'https://drive.google.com/open?id=1DPZZQ43w8brRhbEMolgLqOWKbZbE-IQu' # The shareable link"
      ],
      "execution_count": 0,
      "outputs": []
    },
    {
      "cell_type": "code",
      "metadata": {
        "id": "5lUPiCO82RZ2",
        "colab_type": "code",
        "outputId": "a7123548-319b-48db-f711-25752a2175ec",
        "colab": {
          "base_uri": "https://localhost:8080/",
          "height": 106
        }
      },
      "source": [
        "import numpy\n",
        "import pandas as pd\n",
        "written_train =  numpy.load('drive/My Drive/Colab Notebooks/written_train(1).npy', allow_pickle=True)\n",
        "spoken_train = numpy.load('drive/My Drive/Colab Notebooks/spoken_train(1).npy', allow_pickle=True)\n",
        "match_train =  numpy.load('drive/My Drive/Colab Notebooks/match_train(1).npy', allow_pickle=True)\n",
        "feature_amount = spoken_train[0].shape[1]\n",
        "print(\"shape written:\", written_train.shape)\n",
        "print(\"shape spoken\", spoken_train.shape)\n",
        "print(\"shape spoken indiv:\", spoken_train[4].shape)\n",
        "print(feature_amount)\n",
        "print(match_train)"
      ],
      "execution_count": 55,
      "outputs": [
        {
          "output_type": "stream",
          "text": [
            "shape written: (45000, 784)\n",
            "shape spoken (45000,)\n",
            "shape spoken indiv: (38, 13)\n",
            "13\n",
            "[False False False ... False False False]\n"
          ],
          "name": "stdout"
        }
      ]
    },
    {
      "cell_type": "code",
      "metadata": {
        "id": "lS1PeK9Z2RZ8",
        "colab_type": "code",
        "outputId": "675ebf04-4cde-439e-c870-e25d81d2f585",
        "colab": {
          "base_uri": "https://localhost:8080/",
          "height": 159
        }
      },
      "source": [
        "import pandas as pd\n",
        "from numpy import array\n",
        "\n",
        "maxs = []\n",
        "for i in range(0, len(spoken_train)):\n",
        "    maxs.append(spoken_train[i].shape[0])\n",
        "maxlen_spoken_train = max(maxs)\n",
        "\n",
        "from keras.preprocessing.sequence import pad_sequences\n",
        "\n",
        "spoken_train_3d= pad_sequences(spoken_train, maxlen= max(maxs))\n",
        "print(spoken_train_3d.shape)\n",
        "\n",
        "spoken_train_2d =spoken_train_3d.reshape(45000, maxlen_spoken_train*feature_amount)\n",
        "\n",
        "spoken_train_2d\n"
      ],
      "execution_count": 56,
      "outputs": [
        {
          "output_type": "stream",
          "text": [
            "(45000, 93, 13)\n"
          ],
          "name": "stdout"
        },
        {
          "output_type": "execute_result",
          "data": {
            "text/plain": [
              "array([[ 0,  0,  0, ..., -1,  0,  0],\n",
              "       [ 0,  0,  0, ..., -2,  0,  0],\n",
              "       [ 0,  0,  0, ...,  0,  0,  0],\n",
              "       ...,\n",
              "       [ 0,  0,  0, ...,  0,  0,  0],\n",
              "       [ 0,  0,  0, ..., -1,  0,  0],\n",
              "       [ 0,  0,  0, ...,  0,  0,  0]], dtype=int32)"
            ]
          },
          "metadata": {
            "tags": []
          },
          "execution_count": 56
        }
      ]
    },
    {
      "cell_type": "code",
      "metadata": {
        "id": "9c-wZFXy2RaB",
        "colab_type": "code",
        "colab": {}
      },
      "source": [
        "from sklearn.preprocessing import MinMaxScaler, StandardScaler\n",
        "\n",
        "ss_scaler = StandardScaler()\n",
        "spoken_train_mmsc = ss_scaler.fit_transform(spoken_train_2d)\n",
        "written_train_mmsc = ss_scaler.fit_transform(written_train)"
      ],
      "execution_count": 0,
      "outputs": []
    },
    {
      "cell_type": "code",
      "metadata": {
        "id": "Hb51h7gX2RaE",
        "colab_type": "code",
        "outputId": "dc90574c-1b14-497c-fdee-5036e88926de",
        "colab": {
          "base_uri": "https://localhost:8080/",
          "height": 52
        }
      },
      "source": [
        "X_train = numpy.hstack([spoken_train_mmsc, written_train_mmsc])\n",
        "print(X_train.shape)\n",
        "y_train=match_train\n",
        "print(y_train.shape)"
      ],
      "execution_count": 58,
      "outputs": [
        {
          "output_type": "stream",
          "text": [
            "(45000, 1993)\n",
            "(45000,)\n"
          ],
          "name": "stdout"
        }
      ]
    },
    {
      "cell_type": "code",
      "metadata": {
        "id": "TJsJddQk2RaI",
        "colab_type": "code",
        "outputId": "d1bb861d-9915-49b8-e8f2-47eb81d763ba",
        "colab": {
          "base_uri": "https://localhost:8080/",
          "height": 141
        }
      },
      "source": [
        "from imblearn.over_sampling import SMOTE\n",
        "\n",
        "print(\"Before OverSampling, counts of label '1': {}\".format(sum(y_train==0)))\n",
        "print(\"Before OverSampling, counts of label '2': {} \".format(sum(y_train==1)))\n",
        "\n",
        "sm = SMOTE(random_state=4)\n",
        "X_res, y_res = sm.fit_sample(X_train, y_train.ravel())\n",
        "\n",
        "print('After OverSampling, the shape of X: {}'.format(X_res.shape))\n",
        "print('After OverSampling, the shape of y: {} \\n'.format(y_res.shape))\n",
        "\n",
        "print(\"After OverSampling, counts of label '1': {}\".format(sum(y_res==0)))\n",
        "print(\"After OverSampling, counts of label '2': {}\".format(sum(y_res==1)))\n",
        "\n",
        "\n",
        "X= numpy.array(X_res)\n",
        "y= numpy.array(y_res)\n"
      ],
      "execution_count": 59,
      "outputs": [
        {
          "output_type": "stream",
          "text": [
            "Before OverSampling, counts of label '1': 40461\n",
            "Before OverSampling, counts of label '2': 4539 \n",
            "After OverSampling, the shape of X: (80922, 1993)\n",
            "After OverSampling, the shape of y: (80922,) \n",
            "\n",
            "After OverSampling, counts of label '1': 40461\n",
            "After OverSampling, counts of label '2': 40461\n"
          ],
          "name": "stdout"
        }
      ]
    },
    {
      "cell_type": "code",
      "metadata": {
        "id": "oEG6JaZK2RaK",
        "colab_type": "code",
        "outputId": "c5cb83a8-744e-41be-df17-681cf421af62",
        "colab": {
          "base_uri": "https://localhost:8080/",
          "height": 35
        }
      },
      "source": [
        "X_train=X\n",
        "y_train=y\n",
        "print(y_train.shape)"
      ],
      "execution_count": 60,
      "outputs": [
        {
          "output_type": "stream",
          "text": [
            "(80922,)\n"
          ],
          "name": "stdout"
        }
      ]
    },
    {
      "cell_type": "code",
      "metadata": {
        "id": "YA8A54cv2RaO",
        "colab_type": "code",
        "outputId": "2bba1c74-5f87-41d3-d6f9-f90b6a41aa49",
        "colab": {
          "base_uri": "https://localhost:8080/",
          "height": 250
        }
      },
      "source": [
        "# import labelencoder\n",
        "from sklearn.preprocessing import LabelEncoder, OneHotEncoder\n",
        "# instantiate labelencoder object\n",
        "le = LabelEncoder()\n",
        "y_train = le.fit_transform(y)\n",
        "print(y_train)\n",
        "\n",
        "onehot_encoder = OneHotEncoder(sparse=False)\n",
        "integer_encoded = y_train.reshape(len(y_train), 1)\n",
        "y_train = onehot_encoder.fit_transform(integer_encoded)\n",
        "print(y_train)"
      ],
      "execution_count": 61,
      "outputs": [
        {
          "output_type": "stream",
          "text": [
            "[0 0 0 ... 1 1 1]\n",
            "[[1. 0.]\n",
            " [1. 0.]\n",
            " [1. 0.]\n",
            " ...\n",
            " [0. 1.]\n",
            " [0. 1.]\n",
            " [0. 1.]]\n"
          ],
          "name": "stdout"
        },
        {
          "output_type": "stream",
          "text": [
            "/usr/local/lib/python3.6/dist-packages/sklearn/preprocessing/_encoders.py:414: FutureWarning: The handling of integer data will change in version 0.22. Currently, the categories are determined based on the range [0, max(values)], while in the future they will be determined based on the unique values.\n",
            "If you want the future behaviour and silence this warning, you can specify \"categories='auto'\".\n",
            "In case you used a LabelEncoder before this OneHotEncoder to convert the categories to integers, then you can now use the OneHotEncoder directly.\n",
            "  warnings.warn(msg, FutureWarning)\n"
          ],
          "name": "stderr"
        }
      ]
    },
    {
      "cell_type": "markdown",
      "metadata": {
        "id": "aufvrj5i2RaR",
        "colab_type": "text"
      },
      "source": [
        "# LSTM"
      ]
    },
    {
      "cell_type": "code",
      "metadata": {
        "id": "wwxMsTnM2RaS",
        "colab_type": "code",
        "colab": {}
      },
      "source": [
        "import numpy\n",
        "import matplotlib.pyplot as plt\n",
        "import pandas\n",
        "import math\n",
        "import keras \n",
        "from keras.models import Sequential\n",
        "from keras.layers import Dense\n",
        "from keras.layers import LSTM\n",
        "from sklearn.preprocessing import MinMaxScaler\n",
        "from sklearn.metrics import mean_squared_error"
      ],
      "execution_count": 0,
      "outputs": []
    },
    {
      "cell_type": "code",
      "metadata": {
        "id": "gNFCATiy2RaV",
        "colab_type": "code",
        "outputId": "a0c0550e-1abd-46b2-bff6-659870f7f4fa",
        "colab": {
          "base_uri": "https://localhost:8080/",
          "height": 35
        }
      },
      "source": [
        " print(X_train.shape)\n",
        "X_train = X_train.reshape(80922,1993,1)\n",
        "y_train = y_train.reshape(80922,2)"
      ],
      "execution_count": 63,
      "outputs": [
        {
          "output_type": "stream",
          "text": [
            "(80922, 1993)\n"
          ],
          "name": "stdout"
        }
      ]
    },
    {
      "cell_type": "code",
      "metadata": {
        "id": "fB24dFhz2RaY",
        "colab_type": "code",
        "outputId": "1499ec7b-a8a6-485c-b261-dcd3f675734e",
        "colab": {
          "base_uri": "https://localhost:8080/",
          "height": 52
        }
      },
      "source": [
        "print(X_train.shape)\n",
        "print(y_train.shape)"
      ],
      "execution_count": 64,
      "outputs": [
        {
          "output_type": "stream",
          "text": [
            "(80922, 1993, 1)\n",
            "(80922, 2)\n"
          ],
          "name": "stdout"
        }
      ]
    },
    {
      "cell_type": "code",
      "metadata": {
        "id": "ynDIPS1rGuqG",
        "colab_type": "code",
        "colab": {}
      },
      "source": [
        "import numpy\n",
        "import matplotlib.pyplot as plt\n",
        "import pandas\n",
        "import math\n",
        "from keras.models import Sequential\n",
        "from keras.layers import Dense, Dropout\n",
        "from keras.layers import Conv1D, MaxPooling1D, GlobalAveragePooling1D\n",
        "#from sklearn.preprocessing import MinMaxScaler\n",
        "#from sklearn.metrics import mean_squared_error"
      ],
      "execution_count": 0,
      "outputs": []
    },
    {
      "cell_type": "code",
      "metadata": {
        "id": "v9eTgr-X2Rab",
        "colab_type": "code",
        "outputId": "1c979405-6363-48c2-8dbe-abae39f3caad",
        "colab": {
          "base_uri": "https://localhost:8080/",
          "height": 515
        }
      },
      "source": [
        "model_m = Sequential()\n",
        "model_m.add(Conv1D(32, 10, activation='relu', input_shape=(1993, 1)))\n",
        "model_m.add(MaxPooling1D(10))\n",
        "model_m.add(Conv1D(80, 10, activation='relu'))\n",
        "model_m.add(GlobalAveragePooling1D())\n",
        "model_m.add(Dropout(rate=0.5))\n",
        "model_m.add(Dense(1287, activation='relu'))\n",
        "model_m.add(Dropout(rate=0.5))\n",
        "model_m.add(Dense(644, activation='relu'))\n",
        "model_m.add(Dropout(rate=0.5))\n",
        "model_m.add(Dense(2, activation='softmax'))\n",
        "print(model_m.summary())"
      ],
      "execution_count": 66,
      "outputs": [
        {
          "output_type": "stream",
          "text": [
            "_________________________________________________________________\n",
            "Layer (type)                 Output Shape              Param #   \n",
            "=================================================================\n",
            "conv1d_7 (Conv1D)            (None, 1984, 32)          352       \n",
            "_________________________________________________________________\n",
            "max_pooling1d_4 (MaxPooling1 (None, 198, 32)           0         \n",
            "_________________________________________________________________\n",
            "conv1d_8 (Conv1D)            (None, 189, 80)           25680     \n",
            "_________________________________________________________________\n",
            "global_average_pooling1d_4 ( (None, 80)                0         \n",
            "_________________________________________________________________\n",
            "dropout_8 (Dropout)          (None, 80)                0         \n",
            "_________________________________________________________________\n",
            "dense_9 (Dense)              (None, 1287)              104247    \n",
            "_________________________________________________________________\n",
            "dropout_9 (Dropout)          (None, 1287)              0         \n",
            "_________________________________________________________________\n",
            "dense_10 (Dense)             (None, 644)               829472    \n",
            "_________________________________________________________________\n",
            "dropout_10 (Dropout)         (None, 644)               0         \n",
            "_________________________________________________________________\n",
            "dense_11 (Dense)             (None, 2)                 1290      \n",
            "=================================================================\n",
            "Total params: 961,041\n",
            "Trainable params: 961,041\n",
            "Non-trainable params: 0\n",
            "_________________________________________________________________\n",
            "None\n"
          ],
          "name": "stdout"
        }
      ]
    },
    {
      "cell_type": "code",
      "metadata": {
        "id": "l8DDBzI5HHaY",
        "colab_type": "code",
        "colab": {
          "base_uri": "https://localhost:8080/",
          "height": 88
        },
        "outputId": "ef00bf27-a990-4009-d9f5-6bfb9b241a32"
      },
      "source": [
        "callbacks_list = [\n",
        "    keras.callbacks.ModelCheckpoint(\n",
        "        filepath='best_model.{epoch:02d}-{val_loss:.2f}.h5',\n",
        "        monitor='val_loss', save_best_only=True),\n",
        "    keras.callbacks.EarlyStopping(monitor='acc', patience=1)\n",
        "]\n",
        "\n",
        "model_m.compile(loss='binary_crossentropy',\n",
        "                optimizer='adam', metrics=['accuracy'])\n",
        "\n",
        "BATCH_SIZE = 129\n",
        "EPOCHS = 50\n",
        "\n",
        "history = model_m.fit(X_train,\n",
        "                      y_train,\n",
        "                      batch_size=BATCH_SIZE,\n",
        "                      epochs=1,\n",
        "                      callbacks=callbacks_list,\n",
        "                      validation_split=0.2,\n",
        "                      verbose=1)\n",
        "print(history.history.keys())"
      ],
      "execution_count": 67,
      "outputs": [
        {
          "output_type": "stream",
          "text": [
            "Train on 64737 samples, validate on 16185 samples\n",
            "Epoch 1/1\n",
            "64737/64737 [==============================] - 140s 2ms/step - loss: 0.6242 - acc: 0.6645 - val_loss: 0.1062 - val_acc: 0.9705\n",
            "dict_keys(['val_loss', 'val_acc', 'loss', 'acc'])\n"
          ],
          "name": "stdout"
        }
      ]
    },
    {
      "cell_type": "code",
      "metadata": {
        "id": "WuprIDoyHH8D",
        "colab_type": "code",
        "colab": {}
      },
      "source": [
        ""
      ],
      "execution_count": 0,
      "outputs": []
    },
    {
      "cell_type": "code",
      "metadata": {
        "id": "dS9SN55eHH_L",
        "colab_type": "code",
        "colab": {}
      },
      "source": [
        ""
      ],
      "execution_count": 0,
      "outputs": []
    },
    {
      "cell_type": "markdown",
      "metadata": {
        "id": "E70mBZ6A2Rag",
        "colab_type": "text"
      },
      "source": [
        "# TESTEN"
      ]
    },
    {
      "cell_type": "code",
      "metadata": {
        "id": "1vIEMQiA2Rah",
        "colab_type": "code",
        "colab": {}
      },
      "source": [
        "written_test =numpy.load('drive/My Drive/Colab Notebooks/written_test(1).npy', allow_pickle=True)\n",
        "spoken_test =numpy.load('drive/My Drive/Colab Notebooks/spoken_test(1).npy', allow_pickle=True)"
      ],
      "execution_count": 0,
      "outputs": []
    },
    {
      "cell_type": "code",
      "metadata": {
        "id": "C4iOTn3o2Raj",
        "colab_type": "code",
        "outputId": "3a442069-e4ea-4faa-86a4-64ea9bd31622",
        "colab": {
          "base_uri": "https://localhost:8080/",
          "height": 159
        }
      },
      "source": [
        "import pandas as pd\n",
        "from numpy import array\n",
        "\n",
        "maxs = []\n",
        "for i in range(0, len(spoken_test)):\n",
        "    maxs.append(spoken_test[i].shape[0])\n",
        "maxlen_spoken_test = max(maxs)\n",
        "\n",
        "from keras.preprocessing.sequence import pad_sequences\n",
        "\n",
        "spoken_test_3d= pad_sequences(spoken_test, maxlen= max(maxs))\n",
        "print(spoken_test_3d.shape)\n",
        "\n",
        "spoken_test_2d =spoken_test_3d.reshape(15000, maxlen_spoken_test*feature_amount)\n",
        "\n",
        "spoken_test_2d\n"
      ],
      "execution_count": 69,
      "outputs": [
        {
          "output_type": "stream",
          "text": [
            "(15000, 93, 13)\n"
          ],
          "name": "stdout"
        },
        {
          "output_type": "execute_result",
          "data": {
            "text/plain": [
              "array([[ 0,  0,  0, ..., -1,  0,  1],\n",
              "       [ 0,  0,  0, ...,  0,  0,  0],\n",
              "       [ 0,  0,  0, ..., -2,  0,  1],\n",
              "       ...,\n",
              "       [ 0,  0,  0, ..., -2, -1,  0],\n",
              "       [ 0,  0,  0, ..., -2, -1,  0],\n",
              "       [ 0,  0,  0, ...,  0,  0,  0]], dtype=int32)"
            ]
          },
          "metadata": {
            "tags": []
          },
          "execution_count": 69
        }
      ]
    },
    {
      "cell_type": "code",
      "metadata": {
        "id": "6Rn96LoO2Rao",
        "colab_type": "code",
        "colab": {}
      },
      "source": [
        "mm_scaler = StandardScaler()\n",
        "spoken_test_mmsc = mm_scaler.fit_transform(spoken_test_2d)\n",
        "written_test_mmsc = mm_scaler.fit_transform(written_test)\n"
      ],
      "execution_count": 0,
      "outputs": []
    },
    {
      "cell_type": "code",
      "metadata": {
        "id": "bG378nje2Rar",
        "colab_type": "code",
        "colab": {}
      },
      "source": [
        "X_test = numpy.hstack([spoken_test_mmsc, written_test_mmsc])\n",
        "X_test = X_test.reshape(15000,1993,1)"
      ],
      "execution_count": 0,
      "outputs": []
    },
    {
      "cell_type": "code",
      "metadata": {
        "id": "fDmKvF5v2Rau",
        "colab_type": "code",
        "outputId": "9dd6d582-858b-407b-8109-8128406752e1",
        "colab": {
          "base_uri": "https://localhost:8080/",
          "height": 70
        }
      },
      "source": [
        "from sklearn.metrics import accuracy_score\n",
        "\n",
        "y_pred = model_m.predict_classes(X_test, verbose=1)\n",
        "\n",
        "print(y_pred)\n",
        "\n",
        "print(1 in y_pred)"
      ],
      "execution_count": 72,
      "outputs": [
        {
          "output_type": "stream",
          "text": [
            "15000/15000 [==============================] - 13s 851us/step\n",
            "[1 1 1 ... 1 1 1]\n",
            "True\n"
          ],
          "name": "stdout"
        }
      ]
    },
    {
      "cell_type": "code",
      "metadata": {
        "id": "an954Bv2ODGC",
        "colab_type": "code",
        "colab": {}
      },
      "source": [
        ""
      ],
      "execution_count": 0,
      "outputs": []
    },
    {
      "cell_type": "code",
      "metadata": {
        "id": "w93yMUAd2Ra5",
        "colab_type": "code",
        "colab": {}
      },
      "source": [
        "numpy.save(\"attempt97.npy\", y_pred)"
      ],
      "execution_count": 0,
      "outputs": []
    }
  ]
}