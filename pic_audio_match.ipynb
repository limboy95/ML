{
 "cells": [
  {
   "cell_type": "code",
   "execution_count": 42,
   "metadata": {},
   "outputs": [],
   "source": [
    "import numpy as np\n",
    "import pickle\n",
    "import pandas as pd\n",
    "from numpy import array\n",
    "import matplotlib.pyplot as plt\n",
    "from sklearn.utils import resample\n"
   ]
  },
  {
   "cell_type": "code",
   "execution_count": 43,
   "metadata": {},
   "outputs": [],
   "source": [
    "match_train=np.load(\"match_train.npy\", allow_pickle=True)\n",
    "#pickle.load(match_train, rb)\n",
    "written_train=np.load(\"written_train.npy\")\n",
    "spoken_train=np.load(\"spoken_train.npy\")\n",
    "written_test=np.load(\"written_test.npy\")\n",
    "spoken_test=np.load(\"spoken_test.npy\")"
   ]
  },
  {
   "cell_type": "code",
   "execution_count": 44,
   "metadata": {},
   "outputs": [
    {
     "name": "stdout",
     "output_type": "stream",
     "text": [
      "Shape of written train: (45000, 784)\n",
      "Shape of spoken train: (45000,)\n",
      "Shape of written test: (15000, 784)\n",
      "Shape of written test: (15000,)\n"
     ]
    }
   ],
   "source": [
    "print('Shape of written train:', np.shape(written_train))\n",
    "print('Shape of spoken train:', np.shape(spoken_train))\n",
    "print('Shape of written test:', np.shape(written_test))\n",
    "print('Shape of written test:', np.shape(spoken_test))\n"
   ]
  },
  {
   "cell_type": "code",
   "execution_count": 45,
   "metadata": {},
   "outputs": [
    {
     "name": "stdout",
     "output_type": "stream",
     "text": [
      "(45000, 93, 13)\n"
     ]
    },
    {
     "data": {
      "text/plain": [
       "array([[ 0,  0,  0, ..., -1,  0,  0],\n",
       "       [ 0,  0,  0, ..., -2,  0,  0],\n",
       "       [ 0,  0,  0, ...,  0,  0,  0],\n",
       "       ...,\n",
       "       [ 0,  0,  0, ...,  0,  0,  0],\n",
       "       [ 0,  0,  0, ..., -1,  0,  0],\n",
       "       [ 0,  0,  0, ...,  0,  0,  0]], dtype=int32)"
      ]
     },
     "execution_count": 45,
     "metadata": {},
     "output_type": "execute_result"
    }
   ],
   "source": [
    "maxs = []\n",
    "for i in range(0, len(spoken_train)):\n",
    "    maxs.append(spoken_train[i].shape[0])\n",
    "\n",
    "from keras.preprocessing.sequence import pad_sequences\n",
    "spoken_train_3d= pad_sequences(spoken_train, maxlen= max(maxs))\n",
    "print(spoken_train_3d.shape)\n",
    "\n",
    "spoken_train_2d =spoken_train_3d.reshape(45000, 93*13)\n",
    "spoken_train_2d"
   ]
  },
  {
   "cell_type": "code",
   "execution_count": 46,
   "metadata": {},
   "outputs": [
    {
     "name": "stderr",
     "output_type": "stream",
     "text": [
      "/anaconda3/lib/python3.6/site-packages/sklearn/utils/validation.py:595: DataConversionWarning: Data with input dtype int32 was converted to float64 by MinMaxScaler.\n",
      "  warnings.warn(msg, DataConversionWarning)\n",
      "/anaconda3/lib/python3.6/site-packages/sklearn/utils/validation.py:595: DataConversionWarning: Data with input dtype int64 was converted to float64 by MinMaxScaler.\n",
      "  warnings.warn(msg, DataConversionWarning)\n"
     ]
    }
   ],
   "source": [
    "from sklearn.preprocessing import MinMaxScaler\n",
    "\n",
    "mm_scaler = MinMaxScaler()\n",
    "spoken_train_mmsc = mm_scaler.fit_transform(spoken_train_2d)\n",
    "written_train_mmsc = mm_scaler.fit_transform(written_train)"
   ]
  },
  {
   "cell_type": "code",
   "execution_count": 47,
   "metadata": {},
   "outputs": [
    {
     "name": "stdout",
     "output_type": "stream",
     "text": [
      "(45000, 1993)\n"
     ]
    }
   ],
   "source": [
    "X_train = np.hstack([spoken_train_mmsc, written_train_mmsc])\n",
    "print(X_train.shape)"
   ]
  },
  {
   "cell_type": "code",
   "execution_count": 48,
   "metadata": {},
   "outputs": [
    {
     "data": {
      "image/png": "[encoded data removed]",
      "text/plain": [
       "<Figure size 432x288 with 1 Axes>"
      ]
     },
     "metadata": {
      "needs_background": "light"
     },
     "output_type": "display_data"
    }
   ],
   "source": [
    "y_train = match_train\n",
    "y_train = y_train + 0\n",
    "\n",
    "# check imbalanced data set\n",
    "plt.hist(y_train, color='purple')\n",
    "plt.title(\"Histogram\")\n",
    "plt.xlabel(\"Value\")\n",
    "plt.ylabel(\"Frequency\")\n",
    "fig = plt.gcf()  "
   ]
  },
  {
   "cell_type": "code",
   "execution_count": 49,
   "metadata": {},
   "outputs": [],
   "source": [
    "X_train = pd.DataFrame(data=X_train)\n",
    "y_train = pd.DataFrame(data=y_train)"
   ]
  },
  {
   "cell_type": "code",
   "execution_count": 50,
   "metadata": {},
   "outputs": [],
   "source": [
    "# train and test split, later will add validation split too\n",
    "from sklearn.model_selection import train_test_split\n",
    "X_train, X_test, y_train, y_test = train_test_split(X_train, y_train, test_size=0.3, random_state=44)"
   ]
  },
  {
   "cell_type": "code",
   "execution_count": 51,
   "metadata": {},
   "outputs": [
    {
     "name": "stdout",
     "output_type": "stream",
     "text": [
      "(31500, 1994)\n",
      "(31500, 1993)\n",
      "(31500, 1)\n"
     ]
    }
   ],
   "source": [
    "data = pd.concat([X_train, y_train], axis=1)\n",
    "print(np.shape(data))\n",
    "print(np.shape(X_train))\n",
    "print(np.shape(y_train))"
   ]
  },
  {
   "cell_type": "code",
   "execution_count": 52,
   "metadata": {},
   "outputs": [],
   "source": [
    "# # separate minority and majority classes\n",
    "# not_match = data[y_train == 0]\n",
    "# match = data[y_train == 1]\n",
    "\n",
    "# # upsample minority\n",
    "# match_upsampled = resample(match,\n",
    "#                           replace=True, # sample with replacement\n",
    "#                           n_samples=len(not_match), # match number in majority class\n",
    "#                           random_state=27) # reproducible results"
   ]
  },
  {
   "cell_type": "code",
   "execution_count": 54,
   "metadata": {},
   "outputs": [],
   "source": [
    "import keras\n",
    "from keras import models\n",
    "from keras import layers\n",
    "from keras.layers import Dropout\n",
    "import keras_metrics\n",
    "import tensorflow as tf\n",
    "\n",
    "hidden = 100\n",
    "network = models.Sequential()\n",
    "network.add(layers.Dense(hidden, use_bias='true', activation='relu', input_shape=(1993,)))\n",
    "network.add(Dropout(rate=0.2))\n",
    "network.add(layers.Dense(hidden, use_bias='true', activation='relu'))\n",
    "network.add(Dropout(rate=0.2))\n",
    "network.add(layers.Dense(2, use_bias='true', activation='sigmoid'))\n",
    "\n",
    "keras.initializers.RandomNormal(mean=0.0, stddev=0.05)\n",
    "keras.optimizers.SGD(lr=0.001, momentum=0.01, decay=0.0, nesterov=False)\n",
    "\n",
    "# network.compile(optimizer='sgd',\n",
    "#                 loss='binary_crossentropy',\n",
    "#                 metrics=[#keras_metrics.precision(), \n",
    "#                          keras_metrics.recall()])\n",
    "#network.compile(optimizer='adam', loss='binary_crossentropy', metrics=[precision, f1_score])\n",
    "network.compile(optimizer='sgd', loss='binary_crossentropy', metrics=['acc'])"
   ]
  },
  {
   "cell_type": "code",
   "execution_count": 55,
   "metadata": {},
   "outputs": [],
   "source": [
    "from keras.utils import to_categorical\n",
    "y_train = to_categorical(y_train, num_classes = 2)\n",
    "y_test = to_categorical(y_test, num_classes = 2)"
   ]
  },
  {
   "cell_type": "code",
   "execution_count": 56,
   "metadata": {},
   "outputs": [
    {
     "name": "stdout",
     "output_type": "stream",
     "text": [
      "Train on 31500 samples, validate on 13500 samples\n",
      "Epoch 1/50\n",
      "31500/31500 [==============================] - 38s 1ms/step - loss: 0.3426 - acc: 0.8982 - val_loss: 0.3464 - val_acc: 0.9004\n",
      "Epoch 2/50\n",
      "31500/31500 [==============================] - 37s 1ms/step - loss: 0.3358 - acc: 0.8986 - val_loss: 0.3244 - val_acc: 0.9004\n",
      "Epoch 3/50\n",
      "31500/31500 [==============================] - 36s 1ms/step - loss: 0.3337 - acc: 0.8986 - val_loss: 0.3306 - val_acc: 0.9004\n",
      "Epoch 4/50\n",
      "31500/31500 [==============================] - 35s 1ms/step - loss: 0.3332 - acc: 0.8986 - val_loss: 0.3273 - val_acc: 0.9004\n",
      "Epoch 5/50\n",
      "31500/31500 [==============================] - 40s 1ms/step - loss: 0.3322 - acc: 0.8986 - val_loss: 0.3342 - val_acc: 0.9004\n",
      "Epoch 6/50\n",
      "31500/31500 [==============================] - 36s 1ms/step - loss: 0.3314 - acc: 0.8986 - val_loss: 0.3384 - val_acc: 0.9004\n",
      "Epoch 7/50\n",
      "31500/31500 [==============================] - 36s 1ms/step - loss: 0.3308 - acc: 0.8986 - val_loss: 0.3281 - val_acc: 0.9004\n",
      "Epoch 8/50\n",
      "31500/31500 [==============================] - 33s 1ms/step - loss: 0.3316 - acc: 0.8986 - val_loss: 0.3243 - val_acc: 0.9004\n",
      "Epoch 9/50\n",
      "31500/31500 [==============================] - 33s 1ms/step - loss: 0.3308 - acc: 0.8986 - val_loss: 0.3287 - val_acc: 0.9004\n",
      "Epoch 10/50\n",
      "31500/31500 [==============================] - 33s 1ms/step - loss: 0.3306 - acc: 0.8986 - val_loss: 0.3281 - val_acc: 0.9004\n",
      "Epoch 11/50\n",
      "31500/31500 [==============================] - 33s 1ms/step - loss: 0.3305 - acc: 0.8986 - val_loss: 0.3316 - val_acc: 0.9004\n",
      "Epoch 12/50\n",
      "31500/31500 [==============================] - 33s 1ms/step - loss: 0.3303 - acc: 0.8986 - val_loss: 0.3247 - val_acc: 0.9004\n",
      "Epoch 13/50\n",
      "31500/31500 [==============================] - 36s 1ms/step - loss: 0.3303 - acc: 0.8986 - val_loss: 0.3286 - val_acc: 0.9004\n",
      "Epoch 14/50\n",
      "31500/31500 [==============================] - 32s 1ms/step - loss: 0.3294 - acc: 0.8986 - val_loss: 0.3242 - val_acc: 0.9004\n",
      "Epoch 15/50\n",
      "31500/31500 [==============================] - 33s 1ms/step - loss: 0.3296 - acc: 0.8986 - val_loss: 0.3250 - val_acc: 0.9004\n",
      "Epoch 16/50\n",
      "31500/31500 [==============================] - 34s 1ms/step - loss: 0.3284 - acc: 0.8986 - val_loss: 0.3266 - val_acc: 0.9004\n",
      "Epoch 17/50\n",
      "31500/31500 [==============================] - 33s 1ms/step - loss: 0.3282 - acc: 0.8986 - val_loss: 0.3243 - val_acc: 0.9004\n",
      "Epoch 18/50\n",
      "31500/31500 [==============================] - 30s 940us/step - loss: 0.3276 - acc: 0.8986 - val_loss: 0.3230 - val_acc: 0.9004\n",
      "Epoch 19/50\n",
      "31500/31500 [==============================] - 30s 945us/step - loss: 0.3264 - acc: 0.8986 - val_loss: 0.3219 - val_acc: 0.9004\n",
      "Epoch 20/50\n",
      "31500/31500 [==============================] - 29s 929us/step - loss: 0.3245 - acc: 0.8986 - val_loss: 0.3186 - val_acc: 0.9004\n",
      "Epoch 21/50\n",
      "31500/31500 [==============================] - 29s 922us/step - loss: 0.3230 - acc: 0.8986 - val_loss: 0.3199 - val_acc: 0.9004\n",
      "Epoch 22/50\n",
      "31500/31500 [==============================] - 29s 926us/step - loss: 0.3198 - acc: 0.8986 - val_loss: 0.3110 - val_acc: 0.9004\n",
      "Epoch 23/50\n",
      "31500/31500 [==============================] - 30s 966us/step - loss: 0.3171 - acc: 0.8986 - val_loss: 0.3142 - val_acc: 0.9004\n",
      "Epoch 24/50\n",
      "31500/31500 [==============================] - 32s 1ms/step - loss: 0.3138 - acc: 0.8986 - val_loss: 0.3140 - val_acc: 0.9004\n",
      "Epoch 25/50\n",
      "31500/31500 [==============================] - 33s 1ms/step - loss: 0.3132 - acc: 0.8986 - val_loss: 0.3086 - val_acc: 0.9004\n",
      "Epoch 26/50\n",
      "31500/31500 [==============================] - 33s 1ms/step - loss: 0.3108 - acc: 0.8986 - val_loss: 0.3086 - val_acc: 0.9004\n",
      "Epoch 27/50\n",
      "31500/31500 [==============================] - 33s 1ms/step - loss: 0.3078 - acc: 0.8986 - val_loss: 0.2999 - val_acc: 0.9004\n",
      "Epoch 28/50\n",
      "31500/31500 [==============================] - 34s 1ms/step - loss: 0.3055 - acc: 0.8986 - val_loss: 0.2986 - val_acc: 0.9004\n",
      "Epoch 29/50\n",
      "31500/31500 [==============================] - 34s 1ms/step - loss: 0.3040 - acc: 0.8986 - val_loss: 0.3028 - val_acc: 0.9004\n",
      "Epoch 30/50\n",
      "31500/31500 [==============================] - 34s 1ms/step - loss: 0.3019 - acc: 0.8986 - val_loss: 0.2922 - val_acc: 0.9004\n",
      "Epoch 31/50\n",
      "31500/31500 [==============================] - 34s 1ms/step - loss: 0.2990 - acc: 0.8986 - val_loss: 0.2947 - val_acc: 0.9004\n",
      "Epoch 32/50\n",
      "31500/31500 [==============================] - 35s 1ms/step - loss: 0.2988 - acc: 0.8986 - val_loss: 0.2923 - val_acc: 0.9004\n",
      "Epoch 33/50\n",
      "31500/31500 [==============================] - 34s 1ms/step - loss: 0.2954 - acc: 0.8986 - val_loss: 0.2998 - val_acc: 0.9004\n",
      "Epoch 34/50\n",
      "31500/31500 [==============================] - 34s 1ms/step - loss: 0.2938 - acc: 0.8986 - val_loss: 0.2918 - val_acc: 0.9004\n",
      "Epoch 35/50\n",
      "31500/31500 [==============================] - 34s 1ms/step - loss: 0.2903 - acc: 0.8986 - val_loss: 0.2995 - val_acc: 0.9004\n",
      "Epoch 36/50\n",
      "31500/31500 [==============================] - 36s 1ms/step - loss: 0.2900 - acc: 0.8986 - val_loss: 0.2832 - val_acc: 0.9004\n",
      "Epoch 37/50\n",
      "31500/31500 [==============================] - 36s 1ms/step - loss: 0.2883 - acc: 0.8986 - val_loss: 0.2810 - val_acc: 0.9004\n",
      "Epoch 38/50\n",
      "31500/31500 [==============================] - 36s 1ms/step - loss: 0.2871 - acc: 0.8986 - val_loss: 0.2798 - val_acc: 0.9004\n",
      "Epoch 39/50\n",
      "31500/31500 [==============================] - 36s 1ms/step - loss: 0.2862 - acc: 0.8986 - val_loss: 0.2783 - val_acc: 0.9004\n",
      "Epoch 40/50\n",
      "31500/31500 [==============================] - 36s 1ms/step - loss: 0.2844 - acc: 0.8986 - val_loss: 0.2906 - val_acc: 0.9004\n",
      "Epoch 41/50\n",
      "31500/31500 [==============================] - 36s 1ms/step - loss: 0.2822 - acc: 0.8986 - val_loss: 0.2696 - val_acc: 0.9004\n",
      "Epoch 42/50\n",
      "31500/31500 [==============================] - 36s 1ms/step - loss: 0.2796 - acc: 0.8986 - val_loss: 0.2776 - val_acc: 0.9004\n",
      "Epoch 43/50\n",
      "31500/31500 [==============================] - 36s 1ms/step - loss: 0.2792 - acc: 0.8986 - val_loss: 0.2665 - val_acc: 0.9004\n",
      "Epoch 44/50\n",
      "31500/31500 [==============================] - 36s 1ms/step - loss: 0.2773 - acc: 0.8986 - val_loss: 0.2791 - val_acc: 0.9004\n",
      "Epoch 45/50\n",
      "31500/31500 [==============================] - 36s 1ms/step - loss: 0.2755 - acc: 0.8986 - val_loss: 0.2762 - val_acc: 0.9004\n",
      "Epoch 46/50\n",
      "31500/31500 [==============================] - 36s 1ms/step - loss: 0.2749 - acc: 0.8986 - val_loss: 0.2598 - val_acc: 0.9004\n",
      "Epoch 47/50\n",
      "31500/31500 [==============================] - 37s 1ms/step - loss: 0.2728 - acc: 0.8986 - val_loss: 0.2680 - val_acc: 0.9004\n",
      "Epoch 48/50\n",
      "31500/31500 [==============================] - 36s 1ms/step - loss: 0.2697 - acc: 0.8986 - val_loss: 0.2651 - val_acc: 0.9004\n",
      "Epoch 49/50\n",
      "31500/31500 [==============================] - 36s 1ms/step - loss: 0.2712 - acc: 0.8986 - val_loss: 0.2739 - val_acc: 0.9004\n",
      "Epoch 50/50\n",
      "31500/31500 [==============================] - 36s 1ms/step - loss: 0.2677 - acc: 0.8986 - val_loss: 0.2861 - val_acc: 0.9004\n"
     ]
    }
   ],
   "source": [
    "history = network.fit(X_train, y_train, validation_data=(X_test, y_test), epochs=50, batch_size=10, verbose=1)"
   ]
  },
  {
   "cell_type": "code",
   "execution_count": null,
   "metadata": {},
   "outputs": [],
   "source": []
  }
 ],
 "metadata": {
  "kernelspec": {
   "display_name": "Python 3",
   "language": "python",
   "name": "python3"
  },
  "language_info": {
   "codemirror_mode": {
    "name": "ipython",
    "version": 3
   },
   "file_extension": ".py",
   "mimetype": "text/x-python",
   "name": "python",
   "nbconvert_exporter": "python",
   "pygments_lexer": "ipython3",
   "version": "3.6.8"
  }
 },
 "nbformat": 4,
 "nbformat_minor": 2
}
