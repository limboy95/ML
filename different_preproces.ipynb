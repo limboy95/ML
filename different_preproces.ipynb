{
  "nbformat": 4,
  "nbformat_minor": 0,
  "metadata": {
    "colab": {
      "name": "different preproces.ipynb",
      "version": "0.3.2",
      "provenance": [],
      "collapsed_sections": []
    },
    "language_info": {
      "codemirror_mode": {
        "name": "ipython",
        "version": 3
      },
      "file_extension": ".py",
      "mimetype": "text/x-python",
      "name": "python",
      "nbconvert_exporter": "python",
      "pygments_lexer": "ipython3",
      "version": "3.6.8"
    },
    "kernelspec": {
      "display_name": "Python 3",
      "language": "python",
      "name": "python3"
    }
  },
  "cells": [
    {
      "cell_type": "code",
      "metadata": {
        "id": "PELTci0aAZWL",
        "colab_type": "code",
        "outputId": "fa072fdf-e545-46c4-db84-84141e1fa310",
        "colab": {
          "base_uri": "https://localhost:8080/",
          "height": 126
        }
      },
      "source": [
        "from google.colab import drive\n",
        "drive.mount(\"/content/drive\", force_remount=True)"
      ],
      "execution_count": 1,
      "outputs": [
        {
          "output_type": "stream",
          "text": [
            "Go to this URL in a browser: https://accounts.google.com/o/oauth2/auth?client_id=947318989803-6bn6qk8qdgf4n4g3pfee6491hc0brc4i.apps.googleusercontent.com&redirect_uri=urn%3Aietf%3Awg%3Aoauth%3A2.0%3Aoob&scope=email%20https%3A%2F%2Fwww.googleapis.com%2Fauth%2Fdocs.test%20https%3A%2F%2Fwww.googleapis.com%2Fauth%2Fdrive%20https%3A%2F%2Fwww.googleapis.com%2Fauth%2Fdrive.photos.readonly%20https%3A%2F%2Fwww.googleapis.com%2Fauth%2Fpeopleapi.readonly&response_type=code\n",
            "\n",
            "Enter your authorization code:\n",
            "··········\n",
            "Mounted at /content/drive\n"
          ],
          "name": "stdout"
        }
      ]
    },
    {
      "cell_type": "code",
      "metadata": {
        "id": "z0Z0VN5W5q03",
        "colab_type": "code",
        "outputId": "0cfe0b6b-670f-48b0-bf3f-9346120fe8d3",
        "colab": {
          "base_uri": "https://localhost:8080/",
          "height": 88
        }
      },
      "source": [
        "#lists the content of your google drive\n",
        "!ls \"/content/drive/My Drive\""
      ],
      "execution_count": 2,
      "outputs": [
        {
          "output_type": "stream",
          "text": [
            "'Colab Notebooks'\t\t\t\t      groupwork\n",
            "'Data Mining - Summaries 2018 19.gdoc'\t\t      HRI\n",
            "'DDD group assignment report - Line chart 1.gsheet'  'Sample upload.txt'\n",
            "'Getting started.pdf'\n"
          ],
          "name": "stdout"
        }
      ]
    },
    {
      "cell_type": "code",
      "metadata": {
        "id": "Ck_6wHSBg1vq",
        "colab_type": "code",
        "colab": {}
      },
      "source": [
        "link = 'https://drive.google.com/open?id=1DPZZQ43w8brRhbEMolgLqOWKbZbE-IQu' # The shareable link"
      ],
      "execution_count": 0,
      "outputs": []
    },
    {
      "cell_type": "code",
      "metadata": {
        "id": "5lUPiCO82RZ2",
        "colab_type": "code",
        "outputId": "78d78011-84b5-4a0d-dc67-5f4a191d3c49",
        "colab": {
          "base_uri": "https://localhost:8080/",
          "height": 106
        }
      },
      "source": [
        "import numpy\n",
        "import pandas as pd\n",
        "written_train =  numpy.load('drive/My Drive/Colab Notebooks/written_train(1).npy', allow_pickle=True)\n",
        "spoken_train = numpy.load('drive/My Drive/Colab Notebooks/spoken_train(1).npy', allow_pickle=True)\n",
        "match_train =  numpy.load('drive/My Drive/Colab Notebooks/match_train(1).npy', allow_pickle=True)\n",
        "feature_amount = spoken_train[0].shape[1]\n",
        "print(\"shape written:\", written_train.shape)\n",
        "print(\"shape spoken\", spoken_train.shape)\n",
        "print(\"shape spoken indiv:\", spoken_train[4].shape)\n",
        "print(feature_amount)\n",
        "print(match_train)"
      ],
      "execution_count": 4,
      "outputs": [
        {
          "output_type": "stream",
          "text": [
            "shape written: (45000, 784)\n",
            "shape spoken (45000,)\n",
            "shape spoken indiv: (38, 13)\n",
            "13\n",
            "[False False False ... False False False]\n"
          ],
          "name": "stdout"
        }
      ]
    },
    {
      "cell_type": "code",
      "metadata": {
        "id": "lS1PeK9Z2RZ8",
        "colab_type": "code",
        "outputId": "a5815a93-5d7b-46c3-cd30-c8db7d08033f",
        "colab": {
          "base_uri": "https://localhost:8080/",
          "height": 70
        }
      },
      "source": [
        "import pandas as pd\n",
        "from numpy import array\n",
        "\n",
        "maxs = []\n",
        "for i in range(0, len(spoken_train)):\n",
        "    maxs.append(spoken_train[i].shape[0])\n",
        "maxlen_spoken_train = max(maxs)\n",
        "\n",
        "from keras.preprocessing.sequence import pad_sequences\n",
        "\n",
        "spoken_train_3d= pad_sequences(spoken_train, maxlen= max(maxs))\n",
        "print(spoken_train_3d.shape)\n",
        "\n",
        "spoken_train_2d =spoken_train_3d.reshape(45000, maxlen_spoken_train*feature_amount)\n",
        "\n",
        "print(spoken_train_2d.shape)\n"
      ],
      "execution_count": 5,
      "outputs": [
        {
          "output_type": "stream",
          "text": [
            "Using TensorFlow backend.\n"
          ],
          "name": "stderr"
        },
        {
          "output_type": "stream",
          "text": [
            "(45000, 93, 13)\n",
            "(45000, 1209)\n"
          ],
          "name": "stdout"
        }
      ]
    },
    {
      "cell_type": "code",
      "metadata": {
        "id": "xG0ri9-riSxb",
        "colab_type": "code",
        "colab": {
          "base_uri": "https://localhost:8080/",
          "height": 70
        },
        "outputId": "6ea5e112-442e-478a-80d3-f509db425878"
      },
      "source": [
        "import numpy as np\n",
        "\n",
        "def features(signal, functions):\n",
        "    res= []\n",
        "    for func in functions:\n",
        "        res.append(func(signal, axis=2)) #functie wordt toegepast op de derde axis wat y is \n",
        "    return np.concatenate(res, axis=1) # samenvoegen van res met \n",
        "        \n",
        "#.........................................    \n",
        "summaries = [np.mean, np.min, np.max, np.median, np.std]    \n",
        "spoken_train_2d = features(spoken_train_3d, summaries)\n",
        "print(\"Input shape {}\".format(spoken_train_3d.shape))\n",
        "print(\"The resulting shape should be {}\".format(\n",
        "        (spoken_train_3d.shape[0], spoken_train_3d.shape[1]*len(summaries))))\n",
        "print(spoken_train_2d.shape)"
      ],
      "execution_count": 7,
      "outputs": [
        {
          "output_type": "stream",
          "text": [
            "Input shape (45000, 93, 13)\n",
            "The resulting shape should be (45000, 465)\n",
            "(45000, 465)\n"
          ],
          "name": "stdout"
        }
      ]
    },
    {
      "cell_type": "code",
      "metadata": {
        "id": "9c-wZFXy2RaB",
        "colab_type": "code",
        "colab": {}
      },
      "source": [
        "from sklearn.preprocessing import MinMaxScaler, StandardScaler\n",
        "\n",
        "ss_scaler = StandardScaler()\n",
        "spoken_train_mmsc = ss_scaler.fit_transform(spoken_train_2d)\n",
        "written_train_mmsc = ss_scaler.fit_transform(written_train)"
      ],
      "execution_count": 0,
      "outputs": []
    },
    {
      "cell_type": "markdown",
      "metadata": {
        "id": "xUXcyyF8i-jm",
        "colab_type": "text"
      },
      "source": [
        "#until here\n"
      ]
    },
    {
      "cell_type": "code",
      "metadata": {
        "id": "hYzRZKHQtH6j",
        "colab_type": "code",
        "colab": {
          "base_uri": "https://localhost:8080/",
          "height": 70
        },
        "outputId": "5c693c7c-54dc-4df1-a206-5dda2096cfbe"
      },
      "source": [
        "import numpy as np\n",
        "\n",
        "def features(signal, functions):\n",
        "    res= []\n",
        "    for func in functions:\n",
        "        res.append(func(signal, axis=2)) #functie wordt toegepast op de derde axis wat y is \n",
        "    return np.concatenate(res, axis=1) # samenvoegen van res met \n",
        "        \n",
        "#.........................................    \n",
        "summaries = [np.mean, np.min, np.max, np.median, np.std]    \n",
        "spoken_train_2d = features(spoken_train_3d, summaries)\n",
        "print(\"Input shape {}\".format(spoken_train_3d.shape))\n",
        "print(\"The resulting shape should be {}\".format(\n",
        "        (spoken_train_3d.shape[0], spoken_train_3d.shape[1]*len(summaries))))\n",
        "print(spoken_train_2d.shape)"
      ],
      "execution_count": 9,
      "outputs": [
        {
          "output_type": "stream",
          "text": [
            "Input shape (45000, 93, 13)\n",
            "The resulting shape should be (45000, 465)\n",
            "(45000, 465)\n"
          ],
          "name": "stdout"
        }
      ]
    },
    {
      "cell_type": "code",
      "metadata": {
        "id": "gEM2vOb0trZ9",
        "colab_type": "code",
        "colab": {}
      },
      "source": [
        ""
      ],
      "execution_count": 0,
      "outputs": []
    },
    {
      "cell_type": "code",
      "metadata": {
        "id": "TJsJddQk2RaI",
        "colab_type": "code",
        "colab": {
          "base_uri": "https://localhost:8080/",
          "height": 108
        },
        "outputId": "feef3c6f-6204-4e1e-f6b4-facc855728ad"
      },
      "source": [
        "from imblearn.over_sampling import SMOTE\n",
        "\n",
        "print(\"Before OverSampling, counts of label '1': {}\".format(sum(y_train==0)))\n",
        "print(\"Before OverSampling, counts of label '2': {} \".format(sum(y_train==1)))\n",
        "\n",
        "sm = SMOTE(random_state=666)\n",
        "X_res, y_res = sm.fit_sample(X_train, y_train.ravel())\n",
        "\n",
        "print('After OverSampling, the shape of X: {}'.format(X_res.shape))\n",
        "print('After OverSampling, the shape of y: {} \\n'.format(y_res.shape))\n",
        "\n",
        "print(\"After OverSampling, counts of label '1': {}\".format(sum(y_res==0)))\n",
        "print(\"After OverSampling, counts of label '2': {}\".format(sum(y_res==1)))\n",
        "\n",
        "\n",
        "X= numpy.array(X_res)\n",
        "y= numpy.array(y_res)\n"
      ],
      "execution_count": 0,
      "outputs": [
        {
          "output_type": "stream",
          "text": [
            "/usr/local/lib/python3.6/dist-packages/sklearn/externals/six.py:31: DeprecationWarning: The module is deprecated in version 0.21 and will be removed in version 0.23 since we've dropped support for Python 2.7. Please rely on the official version of six (https://pypi.org/project/six/).\n",
            "  \"(https://pypi.org/project/six/).\", DeprecationWarning)\n"
          ],
          "name": "stderr"
        },
        {
          "output_type": "stream",
          "text": [
            "Before OverSampling, counts of label '1': 40461\n",
            "Before OverSampling, counts of label '2': 4539 \n"
          ],
          "name": "stdout"
        }
      ]
    },
    {
      "cell_type": "code",
      "metadata": {
        "id": "QDm4Kjf9-iTp",
        "colab_type": "code",
        "colab": {}
      },
      "source": [
        "from sklearn.utils import class_weight\n",
        "\n",
        "class_weights = class_weight.compute_class_weight('balanced',\n",
        "                                                 numpy.unique(y_train),\n",
        "                                                 y_train)\n",
        "\n"
      ],
      "execution_count": 0,
      "outputs": []
    },
    {
      "cell_type": "code",
      "metadata": {
        "id": "oEG6JaZK2RaK",
        "colab_type": "code",
        "outputId": "8d777596-1679-4dc9-aec6-d262f9837988",
        "colab": {
          "base_uri": "https://localhost:8080/",
          "height": 204
        }
      },
      "source": [
        "X_train=X_resampled\n",
        "y_train=y_resampled\n",
        "print(y_train.shape)"
      ],
      "execution_count": 12,
      "outputs": [
        {
          "output_type": "error",
          "ename": "NameError",
          "evalue": "ignored",
          "traceback": [
            "\u001b[0;31m---------------------------------------------------------------------------\u001b[0m",
            "\u001b[0;31mNameError\u001b[0m                                 Traceback (most recent call last)",
            "\u001b[0;32m<ipython-input-12-469af57692fa>\u001b[0m in \u001b[0;36m<module>\u001b[0;34m()\u001b[0m\n\u001b[0;32m----> 1\u001b[0;31m \u001b[0mX_train\u001b[0m\u001b[0;34m=\u001b[0m\u001b[0mX_resampled\u001b[0m\u001b[0;34m\u001b[0m\u001b[0;34m\u001b[0m\u001b[0m\n\u001b[0m\u001b[1;32m      2\u001b[0m \u001b[0my_train\u001b[0m\u001b[0;34m=\u001b[0m\u001b[0my_resampled\u001b[0m\u001b[0;34m\u001b[0m\u001b[0;34m\u001b[0m\u001b[0m\n\u001b[1;32m      3\u001b[0m \u001b[0mprint\u001b[0m\u001b[0;34m(\u001b[0m\u001b[0my_train\u001b[0m\u001b[0;34m.\u001b[0m\u001b[0mshape\u001b[0m\u001b[0;34m)\u001b[0m\u001b[0;34m\u001b[0m\u001b[0;34m\u001b[0m\u001b[0m\n",
            "\u001b[0;31mNameError\u001b[0m: name 'X_resampled' is not defined"
          ]
        }
      ]
    },
    {
      "cell_type": "code",
      "metadata": {
        "id": "YA8A54cv2RaO",
        "colab_type": "code",
        "outputId": "275f0ce6-5b96-4c4b-b2d0-9c2e8f421885",
        "colab": {
          "base_uri": "https://localhost:8080/",
          "height": 250
        }
      },
      "source": [
        "# import labelencoder\n",
        "from sklearn.preprocessing import LabelEncoder, OneHotEncoder\n",
        "# instantiate labelencoder object\n",
        "le = LabelEncoder()\n",
        "y_train = le.fit_transform(y_train)\n",
        "print(y_train)\n",
        "\n",
        "onehot_encoder = OneHotEncoder(sparse=False)\n",
        "integer_encoded = y_train.reshape(len(y_train), 1)\n",
        "y_train = onehot_encoder.fit_transform(integer_encoded)\n",
        "print(y_train)"
      ],
      "execution_count": 9,
      "outputs": [
        {
          "output_type": "stream",
          "text": [
            "[0 0 0 ... 0 0 0]\n",
            "[[1. 0.]\n",
            " [1. 0.]\n",
            " [1. 0.]\n",
            " ...\n",
            " [1. 0.]\n",
            " [1. 0.]\n",
            " [1. 0.]]\n"
          ],
          "name": "stdout"
        },
        {
          "output_type": "stream",
          "text": [
            "/usr/local/lib/python3.6/dist-packages/sklearn/preprocessing/_encoders.py:415: FutureWarning: The handling of integer data will change in version 0.22. Currently, the categories are determined based on the range [0, max(values)], while in the future they will be determined based on the unique values.\n",
            "If you want the future behaviour and silence this warning, you can specify \"categories='auto'\".\n",
            "In case you used a LabelEncoder before this OneHotEncoder to convert the categories to integers, then you can now use the OneHotEncoder directly.\n",
            "  warnings.warn(msg, FutureWarning)\n"
          ],
          "name": "stderr"
        }
      ]
    },
    {
      "cell_type": "markdown",
      "metadata": {
        "id": "aufvrj5i2RaR",
        "colab_type": "text"
      },
      "source": [
        "# LSTM"
      ]
    },
    {
      "cell_type": "code",
      "metadata": {
        "id": "wwxMsTnM2RaS",
        "colab_type": "code",
        "colab": {}
      },
      "source": [
        "import numpy\n",
        "import matplotlib.pyplot as plt\n",
        "import pandas\n",
        "import math\n",
        "import keras \n",
        "from keras.models import Sequential\n",
        "from keras.layers import Dense\n",
        "from keras.layers import LSTM\n",
        "from sklearn.preprocessing import MinMaxScaler\n",
        "from sklearn.metrics import mean_squared_error"
      ],
      "execution_count": 0,
      "outputs": []
    },
    {
      "cell_type": "code",
      "metadata": {
        "id": "gNFCATiy2RaV",
        "colab_type": "code",
        "outputId": "ac40281f-59a5-4007-cece-efcf993f4118",
        "colab": {
          "base_uri": "https://localhost:8080/",
          "height": 35
        }
      },
      "source": [
        " print(X_train.shape)\n",
        "X_train = X_train.reshape(X_train.shape[0],1249,1)\n",
        "y_train = y_train.reshape(X_train.shape[0],2)"
      ],
      "execution_count": 42,
      "outputs": [
        {
          "output_type": "stream",
          "text": [
            "(45000, 1249, 1)\n"
          ],
          "name": "stdout"
        }
      ]
    },
    {
      "cell_type": "code",
      "metadata": {
        "id": "fB24dFhz2RaY",
        "colab_type": "code",
        "outputId": "a6304f4a-d126-476e-e98d-fbe9c027680b",
        "colab": {
          "base_uri": "https://localhost:8080/",
          "height": 52
        }
      },
      "source": [
        "print(X_train.shape)\n",
        "print(y_train.shape)"
      ],
      "execution_count": 43,
      "outputs": [
        {
          "output_type": "stream",
          "text": [
            "(45000, 1249, 1)\n",
            "(45000, 2)\n"
          ],
          "name": "stdout"
        }
      ]
    },
    {
      "cell_type": "code",
      "metadata": {
        "id": "ynDIPS1rGuqG",
        "colab_type": "code",
        "colab": {}
      },
      "source": [
        "import numpy\n",
        "import matplotlib.pyplot as plt\n",
        "import pandas\n",
        "import math\n",
        "from sklearn.utils import class_weight\n",
        "\n",
        "from keras.models import Sequential\n",
        "from keras.layers import Dense, Dropout\n",
        "from keras.layers import Conv1D, MaxPooling1D, GlobalAveragePooling1D, LSTM\n",
        "#from sklearn.preprocessing import MinMaxScaler\n",
        "#from sklearn.metrics import mean_squared_error"
      ],
      "execution_count": 0,
      "outputs": []
    },
    {
      "cell_type": "code",
      "metadata": {
        "id": "v9eTgr-X2Rab",
        "colab_type": "code",
        "outputId": "a44421a8-5068-4740-f547-a439d44a2396",
        "colab": {
          "base_uri": "https://localhost:8080/",
          "height": 239
        }
      },
      "source": [
        "model_m = Sequential()\n",
        "model_m.add(Conv1D(32, 10, activation='relu', input_shape=(1993, 1)))\n",
        "model_m.add(MaxPooling1D(5))\n",
        "model_m.add(Conv1D(80, 3, activation='relu'))\n",
        "model_m.add(GlobalAveragePooling1D())\n",
        "#odel_m.add(Dropout(0.2))\n",
        "\n",
        "model_m.add(Dense(2574, input_dim=1249, activation='relu'))\n",
        "model_m.add(Dropout(0.2))\n",
        "model_m.add(Dense(1287, activation='relu'))\n",
        "model_m.add(Dropout(0.2))\n",
        "model_m.add(Dense(644, activation='relu'))\n",
        "model_m.add(Dropout(0.2))\n",
        "model_m.add(Dense(644, activation='relu'))\n",
        "model_m.add(Dropout(0.2))\n",
        "model_m.add(Dense(2, activation='softmax'))\n",
        "print(model_m.summary())"
      ],
      "execution_count": 1,
      "outputs": [
        {
          "output_type": "error",
          "ename": "NameError",
          "evalue": "ignored",
          "traceback": [
            "\u001b[0;31m---------------------------------------------------------------------------\u001b[0m",
            "\u001b[0;31mNameError\u001b[0m                                 Traceback (most recent call last)",
            "\u001b[0;32m<ipython-input-1-7cd1f31cb87b>\u001b[0m in \u001b[0;36m<module>\u001b[0;34m()\u001b[0m\n\u001b[0;32m----> 1\u001b[0;31m \u001b[0mmodel_m\u001b[0m \u001b[0;34m=\u001b[0m \u001b[0mSequential\u001b[0m\u001b[0;34m(\u001b[0m\u001b[0;34m)\u001b[0m\u001b[0;34m\u001b[0m\u001b[0;34m\u001b[0m\u001b[0m\n\u001b[0m\u001b[1;32m      2\u001b[0m \u001b[0mmodel_m\u001b[0m\u001b[0;34m.\u001b[0m\u001b[0madd\u001b[0m\u001b[0;34m(\u001b[0m\u001b[0mConv1D\u001b[0m\u001b[0;34m(\u001b[0m\u001b[0;36m32\u001b[0m\u001b[0;34m,\u001b[0m \u001b[0;36m10\u001b[0m\u001b[0;34m,\u001b[0m \u001b[0mactivation\u001b[0m\u001b[0;34m=\u001b[0m\u001b[0;34m'relu'\u001b[0m\u001b[0;34m,\u001b[0m \u001b[0minput_shape\u001b[0m\u001b[0;34m=\u001b[0m\u001b[0;34m(\u001b[0m\u001b[0;36m1993\u001b[0m\u001b[0;34m,\u001b[0m \u001b[0;36m1\u001b[0m\u001b[0;34m)\u001b[0m\u001b[0;34m)\u001b[0m\u001b[0;34m)\u001b[0m\u001b[0;34m\u001b[0m\u001b[0;34m\u001b[0m\u001b[0m\n\u001b[1;32m      3\u001b[0m \u001b[0mmodel_m\u001b[0m\u001b[0;34m.\u001b[0m\u001b[0madd\u001b[0m\u001b[0;34m(\u001b[0m\u001b[0mMaxPooling1D\u001b[0m\u001b[0;34m(\u001b[0m\u001b[0;36m5\u001b[0m\u001b[0;34m)\u001b[0m\u001b[0;34m)\u001b[0m\u001b[0;34m\u001b[0m\u001b[0;34m\u001b[0m\u001b[0m\n\u001b[1;32m      4\u001b[0m \u001b[0mmodel_m\u001b[0m\u001b[0;34m.\u001b[0m\u001b[0madd\u001b[0m\u001b[0;34m(\u001b[0m\u001b[0mConv1D\u001b[0m\u001b[0;34m(\u001b[0m\u001b[0;36m80\u001b[0m\u001b[0;34m,\u001b[0m \u001b[0;36m3\u001b[0m\u001b[0;34m,\u001b[0m \u001b[0mactivation\u001b[0m\u001b[0;34m=\u001b[0m\u001b[0;34m'relu'\u001b[0m\u001b[0;34m)\u001b[0m\u001b[0;34m)\u001b[0m\u001b[0;34m\u001b[0m\u001b[0;34m\u001b[0m\u001b[0m\n\u001b[1;32m      5\u001b[0m \u001b[0mmodel_m\u001b[0m\u001b[0;34m.\u001b[0m\u001b[0madd\u001b[0m\u001b[0;34m(\u001b[0m\u001b[0mGlobalAveragePooling1D\u001b[0m\u001b[0;34m(\u001b[0m\u001b[0;34m)\u001b[0m\u001b[0;34m)\u001b[0m\u001b[0;34m\u001b[0m\u001b[0;34m\u001b[0m\u001b[0m\n",
            "\u001b[0;31mNameError\u001b[0m: name 'Sequential' is not defined"
          ]
        }
      ]
    },
    {
      "cell_type": "code",
      "metadata": {
        "id": "l8DDBzI5HHaY",
        "colab_type": "code",
        "outputId": "7717c778-ac98-42e5-ccd4-1c487196198a",
        "colab": {
          "base_uri": "https://localhost:8080/",
          "height": 159
        }
      },
      "source": [
        "callbacks_list = [\n",
        "    keras.callbacks.ModelCheckpoint(\n",
        "        filepath='best_model.{epoch:02d}-{val_loss:.2f}.h5',\n",
        "        monitor='acc', save_best_only=True),\n",
        "    keras.callbacks.EarlyStopping(monitor='acc', patience=1)\n",
        "]\n",
        "\n",
        "model_m.compile(loss='poisson',\n",
        "                optimizer='rmsprop', metrics=['accuracy'])\n",
        "\n",
        "BATCH_SIZE = 129\n",
        "EPOCHS = 50\n",
        "\n",
        "history = model_m.fit(X_train,\n",
        "                      y_train,\n",
        "                      batch_size=BATCH_SIZE,\n",
        "                      epochs=40,\n",
        "                      class_weight=class_weights,\n",
        "                      callbacks=callbacks_list,\n",
        "             \n",
        "                      validation_split=0.2,\n",
        "                      verbose=1)\n",
        "print(history.history.keys())"
      ],
      "execution_count": 87,
      "outputs": [
        {
          "output_type": "stream",
          "text": [
            "Train on 36000 samples, validate on 9000 samples\n",
            "Epoch 1/40\n",
            "36000/36000 [==============================] - 59s 2ms/step - loss: 1.3104 - acc: 0.8971 - val_loss: 1.3193 - val_acc: 0.8983\n",
            "Epoch 2/40\n",
            "36000/36000 [==============================] - 58s 2ms/step - loss: 1.3113 - acc: 0.8993 - val_loss: 1.3193 - val_acc: 0.8983\n",
            "Epoch 3/40\n",
            "36000/36000 [==============================] - 57s 2ms/step - loss: 1.3113 - acc: 0.8993 - val_loss: 1.3193 - val_acc: 0.8983\n",
            "dict_keys(['val_loss', 'val_acc', 'loss', 'acc'])\n"
          ],
          "name": "stdout"
        }
      ]
    },
    {
      "cell_type": "code",
      "metadata": {
        "id": "WuprIDoyHH8D",
        "colab_type": "code",
        "colab": {}
      },
      "source": [
        ""
      ],
      "execution_count": 0,
      "outputs": []
    },
    {
      "cell_type": "code",
      "metadata": {
        "id": "dS9SN55eHH_L",
        "colab_type": "code",
        "colab": {}
      },
      "source": [
        "#LSTM model we used\n",
        "\n",
        "from keras.models import Sequential\n",
        "from keras.layers import LSTM\n",
        "from keras.layers import Dense, Dropout\n",
        "from keras.layers import Embedding\n",
        "from keras import layers\n",
        "\n",
        "model = Sequential()\n",
        "model.add(LSTM(1000,input_shape=(1249,1),return_sequences=False))#True = many to many\n",
        "#model.add(Dense(2574, activation='relu'))\n",
        "#model.add(Dropout(0.5))\n",
        "#model.add(Dense(1287, activation='relu'))\n",
        "#model.add(Dropout(0.5))\n",
        "#model.add(Dense(644, activation='relu'))\n",
        "#model.add(Dropout(0.5))\n",
        "#model.add(Dense(644, activation='relu'))\n",
        "model.add(Dropout(0.5))\n",
        "model.add(Dense(2,kernel_initializer= 'normal',activation= 'softmax'))"
      ],
      "execution_count": 0,
      "outputs": []
    },
    {
      "cell_type": "code",
      "metadata": {
        "id": "gbDODj5kyoXy",
        "colab_type": "code",
        "colab": {}
      },
      "source": [
        "#Compile the model\n",
        "\n",
        "model.compile(\n",
        " optimizer = \"rmsprop\", loss='binary_crossentropy',\n",
        " metrics = [\"accuracy\"])"
      ],
      "execution_count": 0,
      "outputs": []
    },
    {
      "cell_type": "code",
      "metadata": {
        "id": "5FM0aFyiy9dL",
        "colab_type": "code",
        "colab": {
          "base_uri": "https://localhost:8080/",
          "height": 126
        },
        "outputId": "e84e7964-afd6-48e5-cd76-c55c47c3497c"
      },
      "source": [
        "model.fit(X_train, y_train, epochs= 10, batch_size = 500, validation_split=0.2) #batch_size = 8000\n"
      ],
      "execution_count": 0,
      "outputs": [
        {
          "output_type": "stream",
          "text": [
            "WARNING:tensorflow:From /usr/local/lib/python3.6/dist-packages/tensorflow/python/ops/math_ops.py:3066: to_int32 (from tensorflow.python.ops.math_ops) is deprecated and will be removed in a future version.\n",
            "Instructions for updating:\n",
            "Use tf.cast instead.\n",
            "Train on 36000 samples, validate on 9000 samples\n",
            "Epoch 1/10\n"
          ],
          "name": "stdout"
        }
      ]
    },
    {
      "cell_type": "markdown",
      "metadata": {
        "id": "E70mBZ6A2Rag",
        "colab_type": "text"
      },
      "source": [
        "# TESTEN"
      ]
    },
    {
      "cell_type": "code",
      "metadata": {
        "id": "1vIEMQiA2Rah",
        "colab_type": "code",
        "colab": {}
      },
      "source": [
        "written_test =numpy.load('drive/My Drive/Colab Notebooks/written_test(1).npy', allow_pickle=True)\n",
        "spoken_test =numpy.load('drive/My Drive/Colab Notebooks/spoken_test(1).npy', allow_pickle=True)"
      ],
      "execution_count": 0,
      "outputs": []
    },
    {
      "cell_type": "code",
      "metadata": {
        "id": "C4iOTn3o2Raj",
        "colab_type": "code",
        "outputId": "3a442069-e4ea-4faa-86a4-64ea9bd31622",
        "colab": {
          "base_uri": "https://localhost:8080/",
          "height": 159
        }
      },
      "source": [
        "import pandas as pd\n",
        "from numpy import array\n",
        "\n",
        "maxs = []\n",
        "for i in range(0, len(spoken_test)):\n",
        "    maxs.append(spoken_test[i].shape[0])\n",
        "maxlen_spoken_test = max(maxs)\n",
        "\n",
        "from keras.preprocessing.sequence import pad_sequences\n",
        "\n",
        "spoken_test_3d= pad_sequences(spoken_test, maxlen= max(maxs))\n",
        "print(spoken_test_3d.shape)\n",
        "\n",
        "spoken_test_2d =spoken_test_3d.reshape(15000, maxlen_spoken_test*feature_amount)\n",
        "\n",
        "spoken_test_2d\n"
      ],
      "execution_count": 0,
      "outputs": [
        {
          "output_type": "stream",
          "text": [
            "(15000, 93, 13)\n"
          ],
          "name": "stdout"
        },
        {
          "output_type": "execute_result",
          "data": {
            "text/plain": [
              "array([[ 0,  0,  0, ..., -1,  0,  1],\n",
              "       [ 0,  0,  0, ...,  0,  0,  0],\n",
              "       [ 0,  0,  0, ..., -2,  0,  1],\n",
              "       ...,\n",
              "       [ 0,  0,  0, ..., -2, -1,  0],\n",
              "       [ 0,  0,  0, ..., -2, -1,  0],\n",
              "       [ 0,  0,  0, ...,  0,  0,  0]], dtype=int32)"
            ]
          },
          "metadata": {
            "tags": []
          },
          "execution_count": 69
        }
      ]
    },
    {
      "cell_type": "code",
      "metadata": {
        "id": "6Rn96LoO2Rao",
        "colab_type": "code",
        "colab": {}
      },
      "source": [
        "mm_scaler = StandardScaler()\n",
        "spoken_test_mmsc = mm_scaler.fit_transform(spoken_test_2d)\n",
        "written_test_mmsc = mm_scaler.fit_transform(written_test)\n"
      ],
      "execution_count": 0,
      "outputs": []
    },
    {
      "cell_type": "code",
      "metadata": {
        "id": "bG378nje2Rar",
        "colab_type": "code",
        "colab": {}
      },
      "source": [
        "X_test = numpy.hstack([spoken_test_mmsc, written_test_mmsc])\n",
        "X_test = X_test.reshape(15000,1993,1)"
      ],
      "execution_count": 0,
      "outputs": []
    },
    {
      "cell_type": "code",
      "metadata": {
        "id": "fDmKvF5v2Rau",
        "colab_type": "code",
        "outputId": "9dd6d582-858b-407b-8109-8128406752e1",
        "colab": {
          "base_uri": "https://localhost:8080/",
          "height": 70
        }
      },
      "source": [
        "from sklearn.metrics import accuracy_score\n",
        "\n",
        "y_pred = model_m.predict_classes(X_test, verbose=1)\n",
        "\n",
        "print(y_pred)\n",
        "\n",
        "print(0 in y_pred)"
      ],
      "execution_count": 0,
      "outputs": [
        {
          "output_type": "stream",
          "text": [
            "15000/15000 [==============================] - 13s 851us/step\n",
            "[1 1 1 ... 1 1 1]\n",
            "True\n"
          ],
          "name": "stdout"
        }
      ]
    },
    {
      "cell_type": "code",
      "metadata": {
        "id": "an954Bv2ODGC",
        "colab_type": "code",
        "outputId": "a1fb42c0-7902-48a2-909b-e7addd1279c5",
        "colab": {
          "base_uri": "https://localhost:8080/",
          "height": 35
        }
      },
      "source": [
        "print(0 in y_pred)"
      ],
      "execution_count": 0,
      "outputs": [
        {
          "output_type": "stream",
          "text": [
            "True\n"
          ],
          "name": "stdout"
        }
      ]
    },
    {
      "cell_type": "code",
      "metadata": {
        "id": "w93yMUAd2Ra5",
        "colab_type": "code",
        "colab": {}
      },
      "source": [
        "numpy.save(\"attempt97.npy\", y_pred)"
      ],
      "execution_count": 0,
      "outputs": []
    }
  ]
}