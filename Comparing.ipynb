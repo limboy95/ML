{
 "cells": [
  {
   "cell_type": "code",
   "execution_count": 29,
   "metadata": {},
   "outputs": [],
   "source": [
    "import numpy\n",
    "def compare(file1, file2):\n",
    "    eerste = numpy.load(file1)\n",
    "    tweede = numpy.load(file2)\n",
    "    \n",
    "    count = 0\n",
    "    for i in range (len(eerste)):\n",
    "        if eerste[i] == tweede[i]:\n",
    "            count += 1\n",
    "    print(\"count:\",count)\n",
    "    print(\"gelijkenis:\", count/len(eerste))\n",
    "    return"
   ]
  },
  {
   "cell_type": "code",
   "execution_count": 30,
   "metadata": {},
   "outputs": [
    {
     "name": "stdout",
     "output_type": "stream",
     "text": [
      "count: 2627\n",
      "gelijkenis: 0.17513333333333334\n"
     ]
    }
   ],
   "source": [
    "compare(\"attempttest98bis.npy\", \"attempt97.npy\") #standardscaler, upsampling"
   ]
  },
  {
   "cell_type": "code",
   "execution_count": 31,
   "metadata": {},
   "outputs": [
    {
     "name": "stdout",
     "output_type": "stream",
     "text": [
      "count: 14176\n",
      "gelijkenis: 0.9450666666666667\n"
     ]
    }
   ],
   "source": [
    "compare(\"attempttest98bis.npy\", \"attempttest984.npy\") #standardscaler, upsampling"
   ]
  },
  {
   "cell_type": "code",
   "execution_count": 32,
   "metadata": {},
   "outputs": [
    {
     "name": "stdout",
     "output_type": "stream",
     "text": [
      "count: 14201\n",
      "gelijkenis: 0.9467333333333333\n"
     ]
    }
   ],
   "source": [
    "compare(\"attempttest98bis.npy\", \"attempttest9884.npy\") #standardscaler, oversampling"
   ]
  },
  {
   "cell_type": "code",
   "execution_count": 34,
   "metadata": {},
   "outputs": [
    {
     "name": "stdout",
     "output_type": "stream",
     "text": [
      "count: 14107\n",
      "gelijkenis: 0.9404666666666667\n"
     ]
    }
   ],
   "source": [
    "compare(\"attempttest984.npy\", \"attempttest9884.npy\") #standardscaler, oversampling"
   ]
  },
  {
   "cell_type": "markdown",
   "metadata": {},
   "source": [
    "9917, standardscaler, Oversampling, 20 epochts, 208 batch size"
   ]
  },
  {
   "cell_type": "code",
   "execution_count": 35,
   "metadata": {},
   "outputs": [
    {
     "name": "stdout",
     "output_type": "stream",
     "text": [
      "count: 2344\n",
      "gelijkenis: 0.15626666666666666\n"
     ]
    }
   ],
   "source": [
    "compare(\"attempttest9917.npy\", \"attempt97.npy\")"
   ]
  },
  {
   "cell_type": "code",
   "execution_count": 36,
   "metadata": {},
   "outputs": [
    {
     "name": "stdout",
     "output_type": "stream",
     "text": [
      "count: 14454\n",
      "gelijkenis: 0.9636\n"
     ]
    }
   ],
   "source": [
    "compare(\"attempttest9917.npy\", \"attempttest9939.npy\")"
   ]
  },
  {
   "cell_type": "code",
   "execution_count": null,
   "metadata": {},
   "outputs": [],
   "source": []
  }
 ],
 "metadata": {
  "kernelspec": {
   "display_name": "Python 3",
   "language": "python",
   "name": "python3"
  },
  "language_info": {
   "codemirror_mode": {
    "name": "ipython",
    "version": 3
   },
   "file_extension": ".py",
   "mimetype": "text/x-python",
   "name": "python",
   "nbconvert_exporter": "python",
   "pygments_lexer": "ipython3",
   "version": "3.6.8"
  }
 },
 "nbformat": 4,
 "nbformat_minor": 2
}
